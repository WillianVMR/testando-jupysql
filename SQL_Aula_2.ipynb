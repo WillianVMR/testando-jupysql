{
  "cells": [
    {
      "cell_type": "code",
      "source": [
        "!pip install jupysql"
      ],
      "metadata": {
        "colab": {
          "base_uri": "https://localhost:8080/"
        },
        "id": "mc3yBhznXU3g",
        "outputId": "ec8ee65e-c6d9-4506-b4c9-d52d0a59f42c"
      },
      "execution_count": null,
      "outputs": [
        {
          "output_type": "stream",
          "name": "stdout",
          "text": [
            "Collecting jupysql\n",
            "  Downloading jupysql-0.9.0-py3-none-any.whl (78 kB)\n",
            "\u001b[2K     \u001b[90m━━━━━━━━━━━━━━━━━━━━━━━━━━━━━━━━━━━━━━━\u001b[0m \u001b[32m78.9/78.9 kB\u001b[0m \u001b[31m965.6 kB/s\u001b[0m eta \u001b[36m0:00:00\u001b[0m\n",
            "\u001b[?25hRequirement already satisfied: prettytable in /usr/local/lib/python3.10/dist-packages (from jupysql) (0.7.2)\n",
            "Requirement already satisfied: ipython in /usr/local/lib/python3.10/dist-packages (from jupysql) (7.34.0)\n",
            "Requirement already satisfied: sqlalchemy in /usr/local/lib/python3.10/dist-packages (from jupysql) (2.0.19)\n",
            "Requirement already satisfied: sqlparse in /usr/local/lib/python3.10/dist-packages (from jupysql) (0.4.4)\n",
            "Requirement already satisfied: ipython-genutils>=0.1.0 in /usr/local/lib/python3.10/dist-packages (from jupysql) (0.2.0)\n",
            "Collecting sqlglot (from jupysql)\n",
            "  Downloading sqlglot-17.9.0-py3-none-any.whl (287 kB)\n",
            "\u001b[2K     \u001b[90m━━━━━━━━━━━━━━━━━━━━━━━━━━━━━━━━━━━━━━━\u001b[0m \u001b[32m287.4/287.4 kB\u001b[0m \u001b[31m6.2 MB/s\u001b[0m eta \u001b[36m0:00:00\u001b[0m\n",
            "\u001b[?25hRequirement already satisfied: jinja2 in /usr/local/lib/python3.10/dist-packages (from jupysql) (3.1.2)\n",
            "Collecting ploomber-core>=0.2.7 (from jupysql)\n",
            "  Downloading ploomber_core-0.2.13-py3-none-any.whl (21 kB)\n",
            "Requirement already satisfied: click in /usr/local/lib/python3.10/dist-packages (from ploomber-core>=0.2.7->jupysql) (8.1.6)\n",
            "Requirement already satisfied: pyyaml in /usr/local/lib/python3.10/dist-packages (from ploomber-core>=0.2.7->jupysql) (6.0.1)\n",
            "Collecting posthog (from ploomber-core>=0.2.7->jupysql)\n",
            "  Downloading posthog-3.0.1-py2.py3-none-any.whl (37 kB)\n",
            "Requirement already satisfied: setuptools>=18.5 in /usr/local/lib/python3.10/dist-packages (from ipython->jupysql) (67.7.2)\n",
            "Collecting jedi>=0.16 (from ipython->jupysql)\n",
            "  Downloading jedi-0.19.0-py2.py3-none-any.whl (1.6 MB)\n",
            "\u001b[2K     \u001b[90m━━━━━━━━━━━━━━━━━━━━━━━━━━━━━━━━━━━━━━━━\u001b[0m \u001b[32m1.6/1.6 MB\u001b[0m \u001b[31m37.2 MB/s\u001b[0m eta \u001b[36m0:00:00\u001b[0m\n",
            "\u001b[?25hRequirement already satisfied: decorator in /usr/local/lib/python3.10/dist-packages (from ipython->jupysql) (4.4.2)\n",
            "Requirement already satisfied: pickleshare in /usr/local/lib/python3.10/dist-packages (from ipython->jupysql) (0.7.5)\n",
            "Requirement already satisfied: traitlets>=4.2 in /usr/local/lib/python3.10/dist-packages (from ipython->jupysql) (5.7.1)\n",
            "Requirement already satisfied: prompt-toolkit!=3.0.0,!=3.0.1,<3.1.0,>=2.0.0 in /usr/local/lib/python3.10/dist-packages (from ipython->jupysql) (3.0.39)\n",
            "Requirement already satisfied: pygments in /usr/local/lib/python3.10/dist-packages (from ipython->jupysql) (2.14.0)\n",
            "Requirement already satisfied: backcall in /usr/local/lib/python3.10/dist-packages (from ipython->jupysql) (0.2.0)\n",
            "Requirement already satisfied: matplotlib-inline in /usr/local/lib/python3.10/dist-packages (from ipython->jupysql) (0.1.6)\n",
            "Requirement already satisfied: pexpect>4.3 in /usr/local/lib/python3.10/dist-packages (from ipython->jupysql) (4.8.0)\n",
            "Requirement already satisfied: MarkupSafe>=2.0 in /usr/local/lib/python3.10/dist-packages (from jinja2->jupysql) (2.1.3)\n",
            "Requirement already satisfied: typing-extensions>=4.2.0 in /usr/local/lib/python3.10/dist-packages (from sqlalchemy->jupysql) (4.7.1)\n",
            "Requirement already satisfied: greenlet!=0.4.17 in /usr/local/lib/python3.10/dist-packages (from sqlalchemy->jupysql) (2.0.2)\n",
            "Requirement already satisfied: parso<0.9.0,>=0.8.3 in /usr/local/lib/python3.10/dist-packages (from jedi>=0.16->ipython->jupysql) (0.8.3)\n",
            "Requirement already satisfied: ptyprocess>=0.5 in /usr/local/lib/python3.10/dist-packages (from pexpect>4.3->ipython->jupysql) (0.7.0)\n",
            "Requirement already satisfied: wcwidth in /usr/local/lib/python3.10/dist-packages (from prompt-toolkit!=3.0.0,!=3.0.1,<3.1.0,>=2.0.0->ipython->jupysql) (0.2.6)\n",
            "Requirement already satisfied: requests<3.0,>=2.7 in /usr/local/lib/python3.10/dist-packages (from posthog->ploomber-core>=0.2.7->jupysql) (2.27.1)\n",
            "Requirement already satisfied: six>=1.5 in /usr/local/lib/python3.10/dist-packages (from posthog->ploomber-core>=0.2.7->jupysql) (1.16.0)\n",
            "Collecting monotonic>=1.5 (from posthog->ploomber-core>=0.2.7->jupysql)\n",
            "  Downloading monotonic-1.6-py2.py3-none-any.whl (8.2 kB)\n",
            "Collecting backoff>=1.10.0 (from posthog->ploomber-core>=0.2.7->jupysql)\n",
            "  Downloading backoff-2.2.1-py3-none-any.whl (15 kB)\n",
            "Requirement already satisfied: python-dateutil>2.1 in /usr/local/lib/python3.10/dist-packages (from posthog->ploomber-core>=0.2.7->jupysql) (2.8.2)\n",
            "Requirement already satisfied: urllib3<1.27,>=1.21.1 in /usr/local/lib/python3.10/dist-packages (from requests<3.0,>=2.7->posthog->ploomber-core>=0.2.7->jupysql) (1.26.16)\n",
            "Requirement already satisfied: certifi>=2017.4.17 in /usr/local/lib/python3.10/dist-packages (from requests<3.0,>=2.7->posthog->ploomber-core>=0.2.7->jupysql) (2023.7.22)\n",
            "Requirement already satisfied: charset-normalizer~=2.0.0 in /usr/local/lib/python3.10/dist-packages (from requests<3.0,>=2.7->posthog->ploomber-core>=0.2.7->jupysql) (2.0.12)\n",
            "Requirement already satisfied: idna<4,>=2.5 in /usr/local/lib/python3.10/dist-packages (from requests<3.0,>=2.7->posthog->ploomber-core>=0.2.7->jupysql) (3.4)\n",
            "Installing collected packages: sqlglot, monotonic, jedi, backoff, posthog, ploomber-core, jupysql\n",
            "Successfully installed backoff-2.2.1 jedi-0.19.0 jupysql-0.9.0 monotonic-1.6 ploomber-core-0.2.13 posthog-3.0.1 sqlglot-17.9.0\n"
          ]
        }
      ]
    },
    {
      "cell_type": "code",
      "source": [
        "%load_ext sql"
      ],
      "metadata": {
        "id": "pnoqUsNgXew6"
      },
      "execution_count": null,
      "outputs": []
    },
    {
      "cell_type": "markdown",
      "metadata": {
        "id": "kbiSS0VJ998f"
      },
      "source": [
        "# Criando nosso próprio BD\n",
        "\n",
        "Instanciando nosso BD em memória"
      ]
    },
    {
      "cell_type": "code",
      "execution_count": null,
      "metadata": {
        "id": "QuL8Qrfi-BJG"
      },
      "outputs": [],
      "source": [
        "%sql sqlite:///"
      ]
    },
    {
      "cell_type": "markdown",
      "source": [
        "Verificando tabelas existentes"
      ],
      "metadata": {
        "id": "vy9ckNeAXQXF"
      }
    },
    {
      "cell_type": "code",
      "execution_count": null,
      "metadata": {
        "colab": {
          "base_uri": "https://localhost:8080/",
          "height": 75
        },
        "id": "liDczYLj-Sg2",
        "outputId": "05f83377-bd29-4a20-c773-78c295afceff"
      },
      "outputs": [
        {
          "output_type": "display_data",
          "data": {
            "text/plain": [
              "Running query in 'sqlite:///'"
            ],
            "text/html": [
              "<span style=\"None\">Running query in &#x27;sqlite:///&#x27;</span>"
            ]
          },
          "metadata": {}
        },
        {
          "output_type": "execute_result",
          "data": {
            "text/plain": [
              "+------+\n",
              "| name |\n",
              "+------+\n",
              "+------+"
            ],
            "text/html": [
              "<table>\n",
              "    <tr>\n",
              "        <th>name</th>\n",
              "    </tr>\n",
              "</table>\n",
              "<span style='font-style:italic;font-size:11px'><code>ResultSet</code> : to convert to pandas, call <a href='https://jupysql.ploomber.io/en/latest/integrations/pandas.html'><code>.DataFrame()</code></a> or to polars, call <a href='https://jupysql.ploomber.io/en/latest/integrations/polars.html'><code>.PolarsDataFrame()</code></a></span><br>"
            ]
          },
          "metadata": {},
          "execution_count": 4
        }
      ],
      "source": [
        "%%sql\n",
        "SELECT name FROM sqlite_master WHERE type='table' AND name NOT LIKE 'sqlite_%';"
      ]
    },
    {
      "cell_type": "markdown",
      "metadata": {
        "id": "9IWfOo4VrIk4"
      },
      "source": [
        "## Criando uma tabela\n",
        "\n",
        "Para criar uma tabela simples no SQLite, especifique o nome da tabela e defina as colunas junto com seus tipos de dados. Aqui está um exemplo:\n",
        "\n",
        "```\n",
        "CREATE TABLE users (\n",
        "\tid INTEGER PRIMARY KEY,\n",
        "\tname TEXT,\n",
        "\tage INTEGER\n",
        ");\n",
        "```\n",
        "\n",
        "Alguns dos principais tipos de dados do SQLite3 são\n",
        "- INTEGER: Representa um número inteiro.\n",
        "- REAL: Representa um número de ponto flutuante.\n",
        "- TEXT: Representa uma string de texto.\n",
        "- BLOB: Representa dados binários, como imagens ou arquivos.\n",
        "- NUMERIC: Representa um número decimal ou inteiro, armazenado como texto.\n",
        "- DATETIME: Representa uma data e hora no formato \"YYYY-MM-DD HH:MM:SS\".\n"
      ]
    },
    {
      "cell_type": "code",
      "execution_count": null,
      "metadata": {
        "colab": {
          "base_uri": "https://localhost:8080/",
          "height": 52
        },
        "id": "PfoEw8bfEaJt",
        "outputId": "988595d0-2a86-4fd0-b8a9-886ab1fb6740"
      },
      "outputs": [
        {
          "output_type": "display_data",
          "data": {
            "text/plain": [
              "Running query in 'sqlite:///'"
            ],
            "text/html": [
              "<span style=\"None\">Running query in &#x27;sqlite:///&#x27;</span>"
            ]
          },
          "metadata": {}
        },
        {
          "output_type": "execute_result",
          "data": {
            "text/plain": [
              "++\n",
              "||\n",
              "++\n",
              "++"
            ],
            "text/html": [
              "<table>\n",
              "    <tr>\n",
              "    </tr>\n",
              "</table>\n",
              "<span style='font-style:italic;font-size:11px'><code>ResultSet</code> : to convert to pandas, call <a href='https://jupysql.ploomber.io/en/latest/integrations/pandas.html'><code>.DataFrame()</code></a> or to polars, call <a href='https://jupysql.ploomber.io/en/latest/integrations/polars.html'><code>.PolarsDataFrame()</code></a></span><br>"
            ]
          },
          "metadata": {},
          "execution_count": 5
        }
      ],
      "source": [
        "%%sql\n",
        "\n",
        "CREATE TABLE users (\n",
        "\tid INTEGER PRIMARY KEY,\n",
        "\tname TEXT,\n",
        "\tage INTEGER\n",
        ");\n"
      ]
    },
    {
      "cell_type": "markdown",
      "metadata": {
        "id": "RPQnAAmOrecX"
      },
      "source": [
        "### Utilizando autoincremento\n",
        "\n",
        "No SQLite, você pode usar a palavra-chave `AUTOINCREMENT` para gerar valores exclusivos para uma coluna automaticamente. É comumente usado para chaves primárias. Aqui está um exemplo:\n",
        "\n",
        "```\n",
        "CREATE TABLE users (\n",
        "\tid INTEGER PRIMARY KEY AUTOINCREMENT,\n",
        "\tname TEXT,\n",
        "\tage INTEGER\n",
        ");\n",
        "\n"
      ]
    },
    {
      "cell_type": "code",
      "execution_count": null,
      "metadata": {
        "colab": {
          "base_uri": "https://localhost:8080/",
          "height": 52
        },
        "id": "-okefHMRrJcC",
        "outputId": "8bd4366d-939e-4f77-b929-4887fd094f7f"
      },
      "outputs": [
        {
          "output_type": "display_data",
          "data": {
            "text/plain": [
              "Running query in 'sqlite:///'"
            ],
            "text/html": [
              "<span style=\"None\">Running query in &#x27;sqlite:///&#x27;</span>"
            ]
          },
          "metadata": {}
        },
        {
          "output_type": "execute_result",
          "data": {
            "text/plain": [
              "++\n",
              "||\n",
              "++\n",
              "++"
            ],
            "text/html": [
              "<table>\n",
              "    <tr>\n",
              "    </tr>\n",
              "</table>\n",
              "<span style='font-style:italic;font-size:11px'><code>ResultSet</code> : to convert to pandas, call <a href='https://jupysql.ploomber.io/en/latest/integrations/pandas.html'><code>.DataFrame()</code></a> or to polars, call <a href='https://jupysql.ploomber.io/en/latest/integrations/polars.html'><code>.PolarsDataFrame()</code></a></span><br>"
            ]
          },
          "metadata": {},
          "execution_count": 6
        }
      ],
      "source": [
        "%%sql\n",
        "\n",
        "CREATE TABLE test_auto_inc (\n",
        "    id INTEGER PRIMARY KEY AUTOINCREMENT\n",
        ");\n"
      ]
    },
    {
      "cell_type": "markdown",
      "metadata": {
        "id": "fdrfipar1dSh"
      },
      "source": [
        "### Null constraints\n",
        "\n",
        "Null constraints determinam se uma coluna em uma tabela pode ter valores nulos ou não. Você pode especificar restrições nulas ao criar ou modificar uma tabela. As restrições nulas comuns são:\n",
        "\n",
        "- `NOT NULL`: Especifica que a coluna não pode conter valores nulos.\n",
        "- `NULL`: Especifica que a coluna pode conter valores nulos (comportamento padrão se não for especificado).\n",
        "\n"
      ]
    },
    {
      "cell_type": "code",
      "execution_count": null,
      "metadata": {
        "colab": {
          "base_uri": "https://localhost:8080/",
          "height": 52
        },
        "id": "jZBwYfJT1e0H",
        "outputId": "138d15ae-a1cd-45ed-d0f2-35f5dd78d1e8"
      },
      "outputs": [
        {
          "output_type": "display_data",
          "data": {
            "text/plain": [
              "Running query in 'sqlite:///'"
            ],
            "text/html": [
              "<span style=\"None\">Running query in &#x27;sqlite:///&#x27;</span>"
            ]
          },
          "metadata": {}
        },
        {
          "output_type": "execute_result",
          "data": {
            "text/plain": [
              "++\n",
              "||\n",
              "++\n",
              "++"
            ],
            "text/html": [
              "<table>\n",
              "    <tr>\n",
              "    </tr>\n",
              "</table>\n",
              "<span style='font-style:italic;font-size:11px'><code>ResultSet</code> : to convert to pandas, call <a href='https://jupysql.ploomber.io/en/latest/integrations/pandas.html'><code>.DataFrame()</code></a> or to polars, call <a href='https://jupysql.ploomber.io/en/latest/integrations/polars.html'><code>.PolarsDataFrame()</code></a></span><br>"
            ]
          },
          "metadata": {},
          "execution_count": 7
        }
      ],
      "source": [
        "%%sql\n",
        "\n",
        "CREATE TABLE test_auto_inc_2 (\n",
        "    id INTEGER PRIMARY KEY AUTOINCREMENT,\n",
        "    name TEXT not null,\n",
        "    age INTEGER\n",
        ");\n"
      ]
    },
    {
      "cell_type": "markdown",
      "metadata": {
        "id": "yedMSulh1T0S"
      },
      "source": [
        "## Removendo uma tabela\n",
        "\n",
        "Você pode usar a instrução `DROP TABLE` para excluir uma tabela do banco de dados. Aqui está um exemplo:\n",
        "\n",
        "```\n",
        "DROP TABLE nome_da_tabela;\n",
        "\n"
      ]
    },
    {
      "cell_type": "code",
      "execution_count": null,
      "metadata": {
        "colab": {
          "base_uri": "https://localhost:8080/",
          "height": 52
        },
        "id": "8vVuPHxp1aM5",
        "outputId": "47324013-53a5-4edd-c099-e1db9bc5e435"
      },
      "outputs": [
        {
          "output_type": "display_data",
          "data": {
            "text/plain": [
              "Running query in 'sqlite:///'"
            ],
            "text/html": [
              "<span style=\"None\">Running query in &#x27;sqlite:///&#x27;</span>"
            ]
          },
          "metadata": {}
        },
        {
          "output_type": "execute_result",
          "data": {
            "text/plain": [
              "++\n",
              "||\n",
              "++\n",
              "++"
            ],
            "text/html": [
              "<table>\n",
              "    <tr>\n",
              "    </tr>\n",
              "</table>\n",
              "<span style='font-style:italic;font-size:11px'><code>ResultSet</code> : to convert to pandas, call <a href='https://jupysql.ploomber.io/en/latest/integrations/pandas.html'><code>.DataFrame()</code></a> or to polars, call <a href='https://jupysql.ploomber.io/en/latest/integrations/polars.html'><code>.PolarsDataFrame()</code></a></span><br>"
            ]
          },
          "metadata": {},
          "execution_count": 8
        }
      ],
      "source": [
        "%%sql\n",
        "\n",
        "drop table test_auto_inc_2"
      ]
    },
    {
      "cell_type": "markdown",
      "metadata": {
        "id": "0_8Mwh-o1nkI"
      },
      "source": [
        "## Alterando uma tabela\n",
        "\n",
        "Para modificar a estrutura de uma tabela existente, você pode usar a instrução `ALTER TABLE`. Ele permite adicionar, modificar ou remover colunas. Aqui está um exemplo:\n",
        "\n",
        "```\n",
        "ALTER TABLE tablename\n",
        "ADD COLUMN new_column datatype;\n",
        "\n",
        "ALTER TABLE tablename\n",
        "MODIFY COLUMN column_name datatype;\n",
        "\n",
        "ALTER TABLE tablename\n",
        "DROP COLUMN column_name;\n",
        "\n"
      ]
    },
    {
      "cell_type": "code",
      "execution_count": null,
      "metadata": {
        "colab": {
          "base_uri": "https://localhost:8080/",
          "height": 52
        },
        "id": "gwWKgd741pbk",
        "outputId": "b9bf8246-9082-47bc-8fb8-dfb2b4106d79"
      },
      "outputs": [
        {
          "output_type": "display_data",
          "data": {
            "text/plain": [
              "Running query in 'sqlite:///'"
            ],
            "text/html": [
              "<span style=\"None\">Running query in &#x27;sqlite:///&#x27;</span>"
            ]
          },
          "metadata": {}
        },
        {
          "output_type": "execute_result",
          "data": {
            "text/plain": [
              "++\n",
              "||\n",
              "++\n",
              "++"
            ],
            "text/html": [
              "<table>\n",
              "    <tr>\n",
              "    </tr>\n",
              "</table>\n",
              "<span style='font-style:italic;font-size:11px'><code>ResultSet</code> : to convert to pandas, call <a href='https://jupysql.ploomber.io/en/latest/integrations/pandas.html'><code>.DataFrame()</code></a> or to polars, call <a href='https://jupysql.ploomber.io/en/latest/integrations/polars.html'><code>.PolarsDataFrame()</code></a></span><br>"
            ]
          },
          "metadata": {},
          "execution_count": 9
        }
      ],
      "source": [
        "%%sql\n",
        "\n",
        "\n",
        "alter table test_auto_inc\n",
        "add column address TEXT null;"
      ]
    },
    {
      "cell_type": "markdown",
      "metadata": {
        "id": "tMczOWOFsD7v"
      },
      "source": [
        "## Chaves estrangeiras\n",
        "\n",
        "Chaves estrangeiras são usadas para estabelecer relacionamentos entre tabelas em um banco de dados. Para criar uma tabela com uma chave estrangeira, você precisa especificar a restrição de chave estrangeira. Aqui está um exemplo\n",
        "\n",
        "```\n",
        "CREATE TABLE orders (\n",
        "\tid INTEGER PRIMARY KEY,\n",
        "\tproduct_id INTEGER,\n",
        "\tcustomer_id INTEGER,\n",
        "\tFOREIGN KEY (product_id) REFERENCES products(id),\n",
        "\tFOREIGN KEY (customer_id) REFERENCES customers(id)\n",
        ");\n",
        "\n"
      ]
    },
    {
      "cell_type": "code",
      "execution_count": null,
      "metadata": {
        "colab": {
          "base_uri": "https://localhost:8080/",
          "height": 52
        },
        "id": "Fkav-Q0arjrx",
        "outputId": "684c6006-5020-4827-aba4-d692c994fb77"
      },
      "outputs": [
        {
          "output_type": "display_data",
          "data": {
            "text/plain": [
              "Running query in 'sqlite:///'"
            ],
            "text/html": [
              "<span style=\"None\">Running query in &#x27;sqlite:///&#x27;</span>"
            ]
          },
          "metadata": {}
        },
        {
          "output_type": "execute_result",
          "data": {
            "text/plain": [
              "++\n",
              "||\n",
              "++\n",
              "++"
            ],
            "text/html": [
              "<table>\n",
              "    <tr>\n",
              "    </tr>\n",
              "</table>\n",
              "<span style='font-style:italic;font-size:11px'><code>ResultSet</code> : to convert to pandas, call <a href='https://jupysql.ploomber.io/en/latest/integrations/pandas.html'><code>.DataFrame()</code></a> or to polars, call <a href='https://jupysql.ploomber.io/en/latest/integrations/polars.html'><code>.PolarsDataFrame()</code></a></span><br>"
            ]
          },
          "metadata": {},
          "execution_count": 10
        }
      ],
      "source": [
        "%%sql\n",
        "\n",
        "CREATE TABLE address (\n",
        "    id INTEGER PRIMARY KEY,\n",
        "    street TEXT,\n",
        "    city TEXT,\n",
        "    zip_code TEXT,\n",
        "    state TEXT,\n",
        "    country TEXT,\n",
        "    additional_info TEXT,\n",
        "    user_id INTEGER,\n",
        "    FOREIGN KEY (user_id) REFERENCES users(id)\n",
        ");\n"
      ]
    },
    {
      "cell_type": "markdown",
      "metadata": {
        "id": "ckArUNEQ23fR"
      },
      "source": [
        "### Restrições de exclusão\n",
        "\n",
        "Ao trabalhar com SQLite3, o comportamento das linhas relacionadas que fazem referência a uma linha excluída pode ser especificado usando a cláusula `ON DELETE`. Vamos expandir os diferentes tipos de comportamentos `ON DELETE` e fornecer exemplos para SQLite3.\n",
        "\n",
        "\n",
        "O SQLite3 suporta os seguintes comportamentos `ON DELETE`:\n",
        "\n",
        "- `ON DELETE CASCADE`: Este comportamento exclui todas as linhas relacionadas que fazem referência à linha excluída.\n",
        "- `ON DELETE SET NULL`: Este comportamento define o valor da coluna de chave estrangeira como `NULL` para linhas relacionadas.\n",
        "- `ON DELETE SET DEFAULT`: Este comportamento define o valor da coluna de chave estrangeira para seu valor padrão para linhas relacionadas.\n",
        "- `ON DELETE RESTRICT`: Este comportamento impede a exclusão de uma linha se existirem linhas relacionadas.\n",
        "\n"
      ]
    },
    {
      "cell_type": "code",
      "execution_count": null,
      "metadata": {
        "colab": {
          "base_uri": "https://localhost:8080/",
          "height": 52
        },
        "id": "T7YB86Zn27Xm",
        "outputId": "537f50a6-4079-4637-d02b-ff39fa702c46"
      },
      "outputs": [
        {
          "output_type": "display_data",
          "data": {
            "text/plain": [
              "Running query in 'sqlite:///'"
            ],
            "text/html": [
              "<span style=\"None\">Running query in &#x27;sqlite:///&#x27;</span>"
            ]
          },
          "metadata": {}
        },
        {
          "output_type": "execute_result",
          "data": {
            "text/plain": [
              "++\n",
              "||\n",
              "++\n",
              "++"
            ],
            "text/html": [
              "<table>\n",
              "    <tr>\n",
              "    </tr>\n",
              "</table>\n",
              "<span style='font-style:italic;font-size:11px'><code>ResultSet</code> : to convert to pandas, call <a href='https://jupysql.ploomber.io/en/latest/integrations/pandas.html'><code>.DataFrame()</code></a> or to polars, call <a href='https://jupysql.ploomber.io/en/latest/integrations/polars.html'><code>.PolarsDataFrame()</code></a></span><br>"
            ]
          },
          "metadata": {},
          "execution_count": 11
        }
      ],
      "source": [
        "%%sql\n",
        "\n",
        "drop table address;"
      ]
    },
    {
      "cell_type": "code",
      "execution_count": null,
      "metadata": {
        "colab": {
          "base_uri": "https://localhost:8080/",
          "height": 52
        },
        "id": "5uMcSwTesGIw",
        "outputId": "cc8684e5-571b-4972-db8e-851a3813c6b0"
      },
      "outputs": [
        {
          "output_type": "display_data",
          "data": {
            "text/plain": [
              "Running query in 'sqlite:///'"
            ],
            "text/html": [
              "<span style=\"None\">Running query in &#x27;sqlite:///&#x27;</span>"
            ]
          },
          "metadata": {}
        },
        {
          "output_type": "execute_result",
          "data": {
            "text/plain": [
              "++\n",
              "||\n",
              "++\n",
              "++"
            ],
            "text/html": [
              "<table>\n",
              "    <tr>\n",
              "    </tr>\n",
              "</table>\n",
              "<span style='font-style:italic;font-size:11px'><code>ResultSet</code> : to convert to pandas, call <a href='https://jupysql.ploomber.io/en/latest/integrations/pandas.html'><code>.DataFrame()</code></a> or to polars, call <a href='https://jupysql.ploomber.io/en/latest/integrations/polars.html'><code>.PolarsDataFrame()</code></a></span><br>"
            ]
          },
          "metadata": {},
          "execution_count": 12
        }
      ],
      "source": [
        "%%sql\n",
        "\n",
        "CREATE TABLE address (\n",
        "    id INTEGER PRIMARY KEY AUTOINCREMENT,\n",
        "    address_line_1 TEXT,\n",
        "    address_line_2 TEXT,\n",
        "    city TEXT,\n",
        "    zip_code TEXT,\n",
        "    state TEXT,\n",
        "    country TEXT,\n",
        "    user_id INTEGER,\n",
        "    FOREIGN KEY (user_id) REFERENCES users(id) ON DELETE CASCADE\n",
        "    -- FOREIGN KEY (user_id) REFERENCES users(id) ON DELETE CASCADE\n",
        "    -- FOREIGN KEY (user_id) REFERENCES users(id) ON DELETE SET NULL\n",
        "    -- FOREIGN KEY (user_id) REFERENCES users(id) ON DELETE SET DEFAULT\n",
        "    -- FOREIGN KEY (user_id) REFERENCES users(id) ON DELETE RESTRICT\n",
        ");\n"
      ]
    },
    {
      "cell_type": "markdown",
      "metadata": {
        "id": "zBOmvyPC3UKW"
      },
      "source": [
        "## Inserindo dados\n",
        "\n",
        "Você pode inserir dados em uma tabela usando a instrução `INSERT INTO` em SQL. Aqui está um exemplo:\n",
        "\n",
        "```\n",
        "INSERT INTO tablename (column1, column2, columnN)\n",
        "VALUES (value1, value2, valueN);\n",
        "```\n",
        "\n",
        "Neste exemplo, especifique o nome da tabela e as colunas nas quais deseja inserir dados. Em seguida, você fornece os valores correspondentes para cada coluna.\n",
        "\n"
      ]
    },
    {
      "cell_type": "code",
      "execution_count": null,
      "metadata": {
        "colab": {
          "base_uri": "https://localhost:8080/",
          "height": 69
        },
        "id": "x2zHtBI_3VLv",
        "outputId": "62bae13c-5842-4610-c31b-84370160cbca"
      },
      "outputs": [
        {
          "output_type": "display_data",
          "data": {
            "text/plain": [
              "Running query in 'sqlite:///'"
            ],
            "text/html": [
              "<span style=\"None\">Running query in &#x27;sqlite:///&#x27;</span>"
            ]
          },
          "metadata": {}
        },
        {
          "output_type": "display_data",
          "data": {
            "text/plain": [
              "1 rows affected."
            ],
            "text/html": [
              "<span style=\"color: green\">1 rows affected.</span>"
            ]
          },
          "metadata": {}
        },
        {
          "output_type": "execute_result",
          "data": {
            "text/plain": [
              "++\n",
              "||\n",
              "++\n",
              "++"
            ],
            "text/html": [
              "<table>\n",
              "    <tr>\n",
              "    </tr>\n",
              "</table>\n",
              "<span style='font-style:italic;font-size:11px'><code>ResultSet</code> : to convert to pandas, call <a href='https://jupysql.ploomber.io/en/latest/integrations/pandas.html'><code>.DataFrame()</code></a> or to polars, call <a href='https://jupysql.ploomber.io/en/latest/integrations/polars.html'><code>.PolarsDataFrame()</code></a></span><br>"
            ]
          },
          "metadata": {},
          "execution_count": 13
        }
      ],
      "source": [
        "%%sql\n",
        "\n",
        "insert into users (id, name, age) values (0, 'Thiago', 29);"
      ]
    },
    {
      "cell_type": "code",
      "execution_count": null,
      "metadata": {
        "colab": {
          "base_uri": "https://localhost:8080/",
          "height": 96
        },
        "id": "OI3ymOlR4X6l",
        "outputId": "cd4ede4f-ab10-4a5d-cab0-54aff91f9448"
      },
      "outputs": [
        {
          "output_type": "display_data",
          "data": {
            "text/plain": [
              "Running query in 'sqlite:///'"
            ],
            "text/html": [
              "<span style=\"None\">Running query in &#x27;sqlite:///&#x27;</span>"
            ]
          },
          "metadata": {}
        },
        {
          "output_type": "execute_result",
          "data": {
            "text/plain": [
              "+----+--------+-----+\n",
              "| id |  name  | age |\n",
              "+----+--------+-----+\n",
              "| 0  | Thiago |  29 |\n",
              "+----+--------+-----+"
            ],
            "text/html": [
              "<table>\n",
              "    <tr>\n",
              "        <th>id</th>\n",
              "        <th>name</th>\n",
              "        <th>age</th>\n",
              "    </tr>\n",
              "    <tr>\n",
              "        <td>0</td>\n",
              "        <td>Thiago</td>\n",
              "        <td>29</td>\n",
              "    </tr>\n",
              "</table>\n",
              "<span style='font-style:italic;font-size:11px'><code>ResultSet</code> : to convert to pandas, call <a href='https://jupysql.ploomber.io/en/latest/integrations/pandas.html'><code>.DataFrame()</code></a> or to polars, call <a href='https://jupysql.ploomber.io/en/latest/integrations/polars.html'><code>.PolarsDataFrame()</code></a></span><br>"
            ]
          },
          "metadata": {},
          "execution_count": 14
        }
      ],
      "source": [
        "%%sql\n",
        "\n",
        "select * from users"
      ]
    },
    {
      "cell_type": "markdown",
      "metadata": {
        "id": "yPmnnpdIkqIu"
      },
      "source": [
        "### Utilizando variáveis com Colab"
      ]
    },
    {
      "cell_type": "code",
      "execution_count": null,
      "metadata": {
        "id": "DU9TlZiF3dU6"
      },
      "outputs": [],
      "source": [
        "name = 'João'"
      ]
    },
    {
      "cell_type": "code",
      "execution_count": null,
      "metadata": {
        "colab": {
          "base_uri": "https://localhost:8080/",
          "height": 69
        },
        "id": "a-nIk5CR3mh3",
        "outputId": "30460d42-541f-4677-9dab-dbe818cbe8a3"
      },
      "outputs": [
        {
          "output_type": "display_data",
          "data": {
            "text/plain": [
              "Running query in 'sqlite:///'"
            ],
            "text/html": [
              "<span style=\"None\">Running query in &#x27;sqlite:///&#x27;</span>"
            ]
          },
          "metadata": {}
        },
        {
          "output_type": "display_data",
          "data": {
            "text/plain": [
              "1 rows affected."
            ],
            "text/html": [
              "<span style=\"color: green\">1 rows affected.</span>"
            ]
          },
          "metadata": {}
        },
        {
          "output_type": "execute_result",
          "data": {
            "text/plain": [
              "++\n",
              "||\n",
              "++\n",
              "++"
            ],
            "text/html": [
              "<table>\n",
              "    <tr>\n",
              "    </tr>\n",
              "</table>\n",
              "<span style='font-style:italic;font-size:11px'><code>ResultSet</code> : to convert to pandas, call <a href='https://jupysql.ploomber.io/en/latest/integrations/pandas.html'><code>.DataFrame()</code></a> or to polars, call <a href='https://jupysql.ploomber.io/en/latest/integrations/polars.html'><code>.PolarsDataFrame()</code></a></span><br>"
            ]
          },
          "metadata": {},
          "execution_count": 16
        }
      ],
      "source": [
        "%%sql\n",
        "\n",
        "insert into users (id, name, age) values (1, '{{name}}', 50);"
      ]
    },
    {
      "cell_type": "code",
      "execution_count": null,
      "metadata": {
        "colab": {
          "base_uri": "https://localhost:8080/",
          "height": 118
        },
        "id": "zeAhR6ny55Yq",
        "outputId": "a5b2bb76-a47f-4345-a2f9-b2da6833ec16"
      },
      "outputs": [
        {
          "output_type": "display_data",
          "data": {
            "text/plain": [
              "Running query in 'sqlite:///'"
            ],
            "text/html": [
              "<span style=\"None\">Running query in &#x27;sqlite:///&#x27;</span>"
            ]
          },
          "metadata": {}
        },
        {
          "output_type": "execute_result",
          "data": {
            "text/plain": [
              "+----+--------+-----+\n",
              "| id |  name  | age |\n",
              "+----+--------+-----+\n",
              "| 0  | Thiago |  29 |\n",
              "| 1  |  João  |  50 |\n",
              "+----+--------+-----+"
            ],
            "text/html": [
              "<table>\n",
              "    <tr>\n",
              "        <th>id</th>\n",
              "        <th>name</th>\n",
              "        <th>age</th>\n",
              "    </tr>\n",
              "    <tr>\n",
              "        <td>0</td>\n",
              "        <td>Thiago</td>\n",
              "        <td>29</td>\n",
              "    </tr>\n",
              "    <tr>\n",
              "        <td>1</td>\n",
              "        <td>João</td>\n",
              "        <td>50</td>\n",
              "    </tr>\n",
              "</table>\n",
              "<span style='font-style:italic;font-size:11px'><code>ResultSet</code> : to convert to pandas, call <a href='https://jupysql.ploomber.io/en/latest/integrations/pandas.html'><code>.DataFrame()</code></a> or to polars, call <a href='https://jupysql.ploomber.io/en/latest/integrations/polars.html'><code>.PolarsDataFrame()</code></a></span><br>"
            ]
          },
          "metadata": {},
          "execution_count": 17
        }
      ],
      "source": [
        "%%sql\n",
        "\n",
        "select * from users"
      ]
    },
    {
      "cell_type": "code",
      "execution_count": null,
      "metadata": {
        "colab": {
          "base_uri": "https://localhost:8080/",
          "height": 104
        },
        "id": "XhfdwwMfkGJA",
        "outputId": "e3337045-2cf0-4ab3-e770-a1e325bbfe25"
      },
      "outputs": [
        {
          "output_type": "display_data",
          "data": {
            "text/plain": [
              "Running query in 'sqlite:///'"
            ],
            "text/html": [
              "<span style=\"None\">Running query in &#x27;sqlite:///&#x27;</span>"
            ]
          },
          "metadata": {}
        },
        {
          "output_type": "display_data",
          "data": {
            "text/plain": [
              "1 rows affected."
            ],
            "text/html": [
              "<span style=\"color: green\">1 rows affected.</span>"
            ]
          },
          "metadata": {}
        },
        {
          "output_type": "display_data",
          "data": {
            "text/plain": [
              "1 rows affected."
            ],
            "text/html": [
              "<span style=\"color: green\">1 rows affected.</span>"
            ]
          },
          "metadata": {}
        },
        {
          "output_type": "display_data",
          "data": {
            "text/plain": [
              "1 rows affected."
            ],
            "text/html": [
              "<span style=\"color: green\">1 rows affected.</span>"
            ]
          },
          "metadata": {}
        },
        {
          "output_type": "execute_result",
          "data": {
            "text/plain": [
              "++\n",
              "||\n",
              "++\n",
              "++"
            ],
            "text/html": [
              "<table>\n",
              "    <tr>\n",
              "    </tr>\n",
              "</table>\n",
              "<span style='font-style:italic;font-size:11px'><code>ResultSet</code> : to convert to pandas, call <a href='https://jupysql.ploomber.io/en/latest/integrations/pandas.html'><code>.DataFrame()</code></a> or to polars, call <a href='https://jupysql.ploomber.io/en/latest/integrations/polars.html'><code>.PolarsDataFrame()</code></a></span><br>"
            ]
          },
          "metadata": {},
          "execution_count": 18
        }
      ],
      "source": [
        "%%sql\n",
        "\n",
        "insert into users (id,name,age) values (2, 'Maria', 25);\n",
        "insert into users (id,name,age) values (3, 'Carla', 35);\n",
        "insert into users (id,name,age) values (4, 'Jones', 18);"
      ]
    },
    {
      "cell_type": "code",
      "execution_count": null,
      "metadata": {
        "colab": {
          "base_uri": "https://localhost:8080/",
          "height": 182
        },
        "id": "jkb-DQbQlrF5",
        "outputId": "01755a7c-3495-4958-d06a-2ece753ac936"
      },
      "outputs": [
        {
          "output_type": "display_data",
          "data": {
            "text/plain": [
              "Running query in 'sqlite:///'"
            ],
            "text/html": [
              "<span style=\"None\">Running query in &#x27;sqlite:///&#x27;</span>"
            ]
          },
          "metadata": {}
        },
        {
          "output_type": "execute_result",
          "data": {
            "text/plain": [
              "+----+--------+-----+\n",
              "| id |  name  | age |\n",
              "+----+--------+-----+\n",
              "| 0  | Thiago |  29 |\n",
              "| 1  |  João  |  50 |\n",
              "| 2  | Maria  |  25 |\n",
              "| 3  | Carla  |  35 |\n",
              "| 4  | Jones  |  18 |\n",
              "+----+--------+-----+"
            ],
            "text/html": [
              "<table>\n",
              "    <tr>\n",
              "        <th>id</th>\n",
              "        <th>name</th>\n",
              "        <th>age</th>\n",
              "    </tr>\n",
              "    <tr>\n",
              "        <td>0</td>\n",
              "        <td>Thiago</td>\n",
              "        <td>29</td>\n",
              "    </tr>\n",
              "    <tr>\n",
              "        <td>1</td>\n",
              "        <td>João</td>\n",
              "        <td>50</td>\n",
              "    </tr>\n",
              "    <tr>\n",
              "        <td>2</td>\n",
              "        <td>Maria</td>\n",
              "        <td>25</td>\n",
              "    </tr>\n",
              "    <tr>\n",
              "        <td>3</td>\n",
              "        <td>Carla</td>\n",
              "        <td>35</td>\n",
              "    </tr>\n",
              "    <tr>\n",
              "        <td>4</td>\n",
              "        <td>Jones</td>\n",
              "        <td>18</td>\n",
              "    </tr>\n",
              "</table>\n",
              "<span style='font-style:italic;font-size:11px'><code>ResultSet</code> : to convert to pandas, call <a href='https://jupysql.ploomber.io/en/latest/integrations/pandas.html'><code>.DataFrame()</code></a> or to polars, call <a href='https://jupysql.ploomber.io/en/latest/integrations/polars.html'><code>.PolarsDataFrame()</code></a></span><br>"
            ]
          },
          "metadata": {},
          "execution_count": 19
        }
      ],
      "source": [
        "%%sql\n",
        "select * from users"
      ]
    },
    {
      "cell_type": "code",
      "execution_count": null,
      "metadata": {
        "colab": {
          "base_uri": "https://localhost:8080/",
          "height": 69
        },
        "id": "mJqs21Fekx5D",
        "outputId": "6c6cd8d5-e217-45cd-e1e4-35af82f086f3"
      },
      "outputs": [
        {
          "output_type": "display_data",
          "data": {
            "text/plain": [
              "Running query in 'sqlite:///'"
            ],
            "text/html": [
              "<span style=\"None\">Running query in &#x27;sqlite:///&#x27;</span>"
            ]
          },
          "metadata": {}
        },
        {
          "output_type": "display_data",
          "data": {
            "text/plain": [
              "1 rows affected."
            ],
            "text/html": [
              "<span style=\"color: green\">1 rows affected.</span>"
            ]
          },
          "metadata": {}
        },
        {
          "output_type": "execute_result",
          "data": {
            "text/plain": [
              "++\n",
              "||\n",
              "++\n",
              "++"
            ],
            "text/html": [
              "<table>\n",
              "    <tr>\n",
              "    </tr>\n",
              "</table>\n",
              "<span style='font-style:italic;font-size:11px'><code>ResultSet</code> : to convert to pandas, call <a href='https://jupysql.ploomber.io/en/latest/integrations/pandas.html'><code>.DataFrame()</code></a> or to polars, call <a href='https://jupysql.ploomber.io/en/latest/integrations/polars.html'><code>.PolarsDataFrame()</code></a></span><br>"
            ]
          },
          "metadata": {},
          "execution_count": 20
        }
      ],
      "source": [
        "%%sql\n",
        "\n",
        "insert into address (address_line_1, address_line_2, city, zip_code, state, country, user_id)\n",
        "values ('Rua Visconde de Pelotas 1622', 'Ap 103', 'Caxias do Sul', '95020-183', 'RS', 'BR', 0);"
      ]
    },
    {
      "cell_type": "code",
      "execution_count": null,
      "metadata": {
        "colab": {
          "base_uri": "https://localhost:8080/",
          "height": 96
        },
        "id": "gIKD8qXflzHK",
        "outputId": "224d9422-cca3-40be-f1e3-dcfe5de13e54"
      },
      "outputs": [
        {
          "output_type": "display_data",
          "data": {
            "text/plain": [
              "Running query in 'sqlite:///'"
            ],
            "text/html": [
              "<span style=\"None\">Running query in &#x27;sqlite:///&#x27;</span>"
            ]
          },
          "metadata": {}
        },
        {
          "output_type": "execute_result",
          "data": {
            "text/plain": [
              "+----+------------------------------+----------------+---------------+-----------+-------+---------+---------+\n",
              "| id |        address_line_1        | address_line_2 |      city     |  zip_code | state | country | user_id |\n",
              "+----+------------------------------+----------------+---------------+-----------+-------+---------+---------+\n",
              "| 1  | Rua Visconde de Pelotas 1622 |     Ap 103     | Caxias do Sul | 95020-183 |   RS  |    BR   |    0    |\n",
              "+----+------------------------------+----------------+---------------+-----------+-------+---------+---------+"
            ],
            "text/html": [
              "<table>\n",
              "    <tr>\n",
              "        <th>id</th>\n",
              "        <th>address_line_1</th>\n",
              "        <th>address_line_2</th>\n",
              "        <th>city</th>\n",
              "        <th>zip_code</th>\n",
              "        <th>state</th>\n",
              "        <th>country</th>\n",
              "        <th>user_id</th>\n",
              "    </tr>\n",
              "    <tr>\n",
              "        <td>1</td>\n",
              "        <td>Rua Visconde de Pelotas 1622</td>\n",
              "        <td>Ap 103</td>\n",
              "        <td>Caxias do Sul</td>\n",
              "        <td>95020-183</td>\n",
              "        <td>RS</td>\n",
              "        <td>BR</td>\n",
              "        <td>0</td>\n",
              "    </tr>\n",
              "</table>\n",
              "<span style='font-style:italic;font-size:11px'><code>ResultSet</code> : to convert to pandas, call <a href='https://jupysql.ploomber.io/en/latest/integrations/pandas.html'><code>.DataFrame()</code></a> or to polars, call <a href='https://jupysql.ploomber.io/en/latest/integrations/polars.html'><code>.PolarsDataFrame()</code></a></span><br>"
            ]
          },
          "metadata": {},
          "execution_count": 21
        }
      ],
      "source": [
        "%%sql\n",
        "\n",
        "select * from address"
      ]
    },
    {
      "cell_type": "code",
      "source": [
        "%%sql\n",
        "\n",
        "insert into users (id, name, age)\n",
        "values\n",
        "(5, 'Nathaline', 29), (6, 'Tommy', 9)"
      ],
      "metadata": {
        "colab": {
          "base_uri": "https://localhost:8080/",
          "height": 69
        },
        "id": "39jz2aCQVjIw",
        "outputId": "e4fd758a-de1d-40e4-fe47-e7867baf322a"
      },
      "execution_count": null,
      "outputs": [
        {
          "output_type": "display_data",
          "data": {
            "text/plain": [
              "Running query in 'sqlite:///'"
            ],
            "text/html": [
              "<span style=\"None\">Running query in &#x27;sqlite:///&#x27;</span>"
            ]
          },
          "metadata": {}
        },
        {
          "output_type": "display_data",
          "data": {
            "text/plain": [
              "2 rows affected."
            ],
            "text/html": [
              "<span style=\"color: green\">2 rows affected.</span>"
            ]
          },
          "metadata": {}
        },
        {
          "output_type": "execute_result",
          "data": {
            "text/plain": [
              "++\n",
              "||\n",
              "++\n",
              "++"
            ],
            "text/html": [
              "<table>\n",
              "    <tr>\n",
              "    </tr>\n",
              "</table>\n",
              "<span style='font-style:italic;font-size:11px'><code>ResultSet</code> : to convert to pandas, call <a href='https://jupysql.ploomber.io/en/latest/integrations/pandas.html'><code>.DataFrame()</code></a> or to polars, call <a href='https://jupysql.ploomber.io/en/latest/integrations/polars.html'><code>.PolarsDataFrame()</code></a></span><br>"
            ]
          },
          "metadata": {},
          "execution_count": 36
        }
      ]
    },
    {
      "cell_type": "code",
      "source": [
        "#%%sql\n",
        "\n",
        "\n",
        "#insert into users (id, name, age)\n",
        "#select (user_id, full_name, age) from other_table"
      ],
      "metadata": {
        "id": "2xLxSDXoVjDT"
      },
      "execution_count": null,
      "outputs": []
    },
    {
      "cell_type": "markdown",
      "metadata": {
        "id": "CGXglw3k6gE4"
      },
      "source": [
        "## Atualizando dados\n",
        "\n",
        "A atualização e exclusão de dados em uma tabela é feita usando as instruções `UPDATE` e `DELETE` no SQL.\n",
        "\n",
        "Para atualizar linhas específicas em uma tabela, você pode usar a instrução `UPDATE` com uma cláusula `WHERE` para especificar a condição. Aqui está um exemplo:\n",
        "\n",
        "```\n",
        "UPDATE tablename\n",
        "SET column1 = newValue1, column2 = newValue2\n",
        "WHERE condition;\n",
        "```\n",
        "\n",
        "Neste exemplo, você especifica o nome da tabela, as colunas a serem atualizadas e seus novos valores. A cláusula `WHERE` é usada para especificar a condição para quais linhas atualizar.\n",
        "\n",
        "\n",
        "\n"
      ]
    },
    {
      "cell_type": "code",
      "execution_count": null,
      "metadata": {
        "colab": {
          "base_uri": "https://localhost:8080/",
          "height": 69
        },
        "id": "FAGSHiMN6br9",
        "outputId": "1e475640-5936-4d5e-b329-c063d9206c19"
      },
      "outputs": [
        {
          "output_type": "display_data",
          "data": {
            "text/plain": [
              "Running query in 'sqlite:///'"
            ],
            "text/html": [
              "<span style=\"None\">Running query in &#x27;sqlite:///&#x27;</span>"
            ]
          },
          "metadata": {}
        },
        {
          "output_type": "display_data",
          "data": {
            "text/plain": [
              "1 rows affected."
            ],
            "text/html": [
              "<span style=\"color: green\">1 rows affected.</span>"
            ]
          },
          "metadata": {}
        },
        {
          "output_type": "execute_result",
          "data": {
            "text/plain": [
              "++\n",
              "||\n",
              "++\n",
              "++"
            ],
            "text/html": [
              "<table>\n",
              "    <tr>\n",
              "    </tr>\n",
              "</table>\n",
              "<span style='font-style:italic;font-size:11px'><code>ResultSet</code> : to convert to pandas, call <a href='https://jupysql.ploomber.io/en/latest/integrations/pandas.html'><code>.DataFrame()</code></a> or to polars, call <a href='https://jupysql.ploomber.io/en/latest/integrations/polars.html'><code>.PolarsDataFrame()</code></a></span><br>"
            ]
          },
          "metadata": {},
          "execution_count": 22
        }
      ],
      "source": [
        "%%sql\n",
        "\n",
        "update users\n",
        "set age = 30\n",
        "where name = 'Thiago'"
      ]
    },
    {
      "cell_type": "code",
      "execution_count": null,
      "metadata": {
        "colab": {
          "base_uri": "https://localhost:8080/",
          "height": 182
        },
        "id": "Dmx-m2N-6ntK",
        "outputId": "cb71d4e1-e6ea-4deb-831f-a90e6119234e"
      },
      "outputs": [
        {
          "output_type": "display_data",
          "data": {
            "text/plain": [
              "Running query in 'sqlite:///'"
            ],
            "text/html": [
              "<span style=\"None\">Running query in &#x27;sqlite:///&#x27;</span>"
            ]
          },
          "metadata": {}
        },
        {
          "output_type": "execute_result",
          "data": {
            "text/plain": [
              "+----+--------+-----+\n",
              "| id |  name  | age |\n",
              "+----+--------+-----+\n",
              "| 0  | Thiago |  30 |\n",
              "| 1  |  João  |  50 |\n",
              "| 2  | Maria  |  25 |\n",
              "| 3  | Carla  |  35 |\n",
              "| 4  | Jones  |  18 |\n",
              "+----+--------+-----+"
            ],
            "text/html": [
              "<table>\n",
              "    <tr>\n",
              "        <th>id</th>\n",
              "        <th>name</th>\n",
              "        <th>age</th>\n",
              "    </tr>\n",
              "    <tr>\n",
              "        <td>0</td>\n",
              "        <td>Thiago</td>\n",
              "        <td>30</td>\n",
              "    </tr>\n",
              "    <tr>\n",
              "        <td>1</td>\n",
              "        <td>João</td>\n",
              "        <td>50</td>\n",
              "    </tr>\n",
              "    <tr>\n",
              "        <td>2</td>\n",
              "        <td>Maria</td>\n",
              "        <td>25</td>\n",
              "    </tr>\n",
              "    <tr>\n",
              "        <td>3</td>\n",
              "        <td>Carla</td>\n",
              "        <td>35</td>\n",
              "    </tr>\n",
              "    <tr>\n",
              "        <td>4</td>\n",
              "        <td>Jones</td>\n",
              "        <td>18</td>\n",
              "    </tr>\n",
              "</table>\n",
              "<span style='font-style:italic;font-size:11px'><code>ResultSet</code> : to convert to pandas, call <a href='https://jupysql.ploomber.io/en/latest/integrations/pandas.html'><code>.DataFrame()</code></a> or to polars, call <a href='https://jupysql.ploomber.io/en/latest/integrations/polars.html'><code>.PolarsDataFrame()</code></a></span><br>"
            ]
          },
          "metadata": {},
          "execution_count": 23
        }
      ],
      "source": [
        "%%sql\n",
        "\n",
        "\n",
        "select * from users"
      ]
    },
    {
      "cell_type": "markdown",
      "metadata": {
        "id": "ethtOTnM6svD"
      },
      "source": [
        "## Deletando dados\n",
        "\n",
        "Para excluir uma única linha de uma tabela, você pode especificar a condição usando a instrução `DELETE` com uma cláusula `WHERE`. Aqui está um exemplo\n",
        "\n",
        "```\n",
        "DELETE FROM tablename\n",
        "WHERE condition;\n",
        "```\n",
        "Neste exemplo, você especifica o nome da tabela e a condição que determina quais linhas excluir.\n",
        "\n",
        "\n"
      ]
    },
    {
      "cell_type": "code",
      "execution_count": null,
      "metadata": {
        "colab": {
          "base_uri": "https://localhost:8080/",
          "height": 69
        },
        "id": "ndinAaZ06p8m",
        "outputId": "a7634347-5508-4dbf-fbd4-8565474c443e"
      },
      "outputs": [
        {
          "output_type": "display_data",
          "data": {
            "text/plain": [
              "Running query in 'sqlite:///'"
            ],
            "text/html": [
              "<span style=\"None\">Running query in &#x27;sqlite:///&#x27;</span>"
            ]
          },
          "metadata": {}
        },
        {
          "output_type": "display_data",
          "data": {
            "text/plain": [
              "1 rows affected."
            ],
            "text/html": [
              "<span style=\"color: green\">1 rows affected.</span>"
            ]
          },
          "metadata": {}
        },
        {
          "output_type": "execute_result",
          "data": {
            "text/plain": [
              "++\n",
              "||\n",
              "++\n",
              "++"
            ],
            "text/html": [
              "<table>\n",
              "    <tr>\n",
              "    </tr>\n",
              "</table>\n",
              "<span style='font-style:italic;font-size:11px'><code>ResultSet</code> : to convert to pandas, call <a href='https://jupysql.ploomber.io/en/latest/integrations/pandas.html'><code>.DataFrame()</code></a> or to polars, call <a href='https://jupysql.ploomber.io/en/latest/integrations/polars.html'><code>.PolarsDataFrame()</code></a></span><br>"
            ]
          },
          "metadata": {},
          "execution_count": 24
        }
      ],
      "source": [
        "%%sql\n",
        "\n",
        "delete from users\n",
        "where name = 'João'"
      ]
    },
    {
      "cell_type": "code",
      "source": [
        "%%sql\n",
        "\n",
        "select * from users"
      ],
      "metadata": {
        "colab": {
          "base_uri": "https://localhost:8080/",
          "height": 161
        },
        "id": "hm8PosDiLS3h",
        "outputId": "7b0872eb-42a1-434a-9fb8-c82ec72fe883"
      },
      "execution_count": null,
      "outputs": [
        {
          "output_type": "display_data",
          "data": {
            "text/plain": [
              "Running query in 'sqlite:///'"
            ],
            "text/html": [
              "<span style=\"None\">Running query in &#x27;sqlite:///&#x27;</span>"
            ]
          },
          "metadata": {}
        },
        {
          "output_type": "execute_result",
          "data": {
            "text/plain": [
              "+----+--------+-----+\n",
              "| id |  name  | age |\n",
              "+----+--------+-----+\n",
              "| 0  | Thiago |  30 |\n",
              "| 2  | Maria  |  25 |\n",
              "| 3  | Carla  |  35 |\n",
              "| 4  | Jones  |  18 |\n",
              "+----+--------+-----+"
            ],
            "text/html": [
              "<table>\n",
              "    <tr>\n",
              "        <th>id</th>\n",
              "        <th>name</th>\n",
              "        <th>age</th>\n",
              "    </tr>\n",
              "    <tr>\n",
              "        <td>0</td>\n",
              "        <td>Thiago</td>\n",
              "        <td>30</td>\n",
              "    </tr>\n",
              "    <tr>\n",
              "        <td>2</td>\n",
              "        <td>Maria</td>\n",
              "        <td>25</td>\n",
              "    </tr>\n",
              "    <tr>\n",
              "        <td>3</td>\n",
              "        <td>Carla</td>\n",
              "        <td>35</td>\n",
              "    </tr>\n",
              "    <tr>\n",
              "        <td>4</td>\n",
              "        <td>Jones</td>\n",
              "        <td>18</td>\n",
              "    </tr>\n",
              "</table>\n",
              "<span style='font-style:italic;font-size:11px'><code>ResultSet</code> : to convert to pandas, call <a href='https://jupysql.ploomber.io/en/latest/integrations/pandas.html'><code>.DataFrame()</code></a> or to polars, call <a href='https://jupysql.ploomber.io/en/latest/integrations/polars.html'><code>.PolarsDataFrame()</code></a></span><br>"
            ]
          },
          "metadata": {},
          "execution_count": 25
        }
      ]
    }
  ],
  "metadata": {
    "colab": {
      "provenance": []
    },
    "kernelspec": {
      "display_name": "Python 3",
      "name": "python3"
    },
    "language_info": {
      "name": "python"
    }
  },
  "nbformat": 4,
  "nbformat_minor": 0
}