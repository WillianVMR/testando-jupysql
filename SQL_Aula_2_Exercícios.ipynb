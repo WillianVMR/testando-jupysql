{
  "cells": [
    {
      "cell_type": "markdown",
      "metadata": {
        "id": "GKBpPOP0_P0c"
      },
      "source": [
        "# Setup"
      ]
    },
    {
      "cell_type": "code",
      "execution_count": 24,
      "metadata": {
        "id": "s8MPmZxL_NnW"
      },
      "outputs": [],
      "source": [
        "#!pip install jupysql"
      ]
    },
    {
      "cell_type": "code",
      "execution_count": 25,
      "metadata": {
        "id": "pZ35BFjB_Rxd"
      },
      "outputs": [
        {
          "name": "stdout",
          "output_type": "stream",
          "text": [
            "The sql extension is already loaded. To reload it, use:\n",
            "  %reload_ext sql\n"
          ]
        }
      ],
      "source": [
        "%load_ext sql"
      ]
    },
    {
      "cell_type": "code",
      "execution_count": 26,
      "metadata": {
        "id": "LXYwQKFh_Sx9"
      },
      "outputs": [
        {
          "data": {
            "text/html": [
              "<span style=\"None\">Connecting and switching to connection &#x27;sqlite:///aula2.sqlite3&#x27;</span>"
            ],
            "text/plain": [
              "Connecting and switching to connection 'sqlite:///aula2.sqlite3'"
            ]
          },
          "metadata": {},
          "output_type": "display_data"
        }
      ],
      "source": [
        "%sql sqlite:///aula2.sqlite3"
      ]
    },
    {
      "cell_type": "markdown",
      "metadata": {
        "id": "S0GVXMG__U5S"
      },
      "source": [
        "# Exercícios"
      ]
    },
    {
      "cell_type": "markdown",
      "metadata": {
        "id": "pjQKJ5Y5_W1h"
      },
      "source": [
        "1. Crie uma tabela chamada \"clientes\" com as colunas \"id\" (integer), \"nome\" (text) e \"email\" (text)."
      ]
    },
    {
      "cell_type": "code",
      "execution_count": 27,
      "metadata": {
        "id": "LMhmooz2_UXv"
      },
      "outputs": [
        {
          "data": {
            "text/html": [
              "<span style=\"None\">Running query in &#x27;sqlite:///aula2.sqlite3&#x27;</span>"
            ],
            "text/plain": [
              "Running query in 'sqlite:///aula2.sqlite3'"
            ]
          },
          "metadata": {},
          "output_type": "display_data"
        },
        {
          "data": {
            "text/html": [
              "<table>\n",
              "    <thead>\n",
              "        <tr>\n",
              "        </tr>\n",
              "    </thead>\n",
              "    <tbody>\n",
              "    </tbody>\n",
              "</table>"
            ],
            "text/plain": [
              "++\n",
              "||\n",
              "++\n",
              "++"
            ]
          },
          "execution_count": 27,
          "metadata": {},
          "output_type": "execute_result"
        }
      ],
      "source": [
        "%%sql\n",
        "\n",
        "CREATE TABLE clientes (\n",
        "    id INTEGER PRIMARY KEY AUTOINCREMENT,\n",
        "    nome TEXT,\n",
        "    email TEXT\n",
        ");"
      ]
    },
    {
      "cell_type": "markdown",
      "metadata": {
        "id": "b2Phsc8y_bb7"
      },
      "source": [
        "2. Crie uma tabela chamada \"produtos\" com as colunas \"id\" (integer), \"nome\" (text), \"preco\" (numeric) e \"quantidade\" (integer)."
      ]
    },
    {
      "cell_type": "code",
      "execution_count": 28,
      "metadata": {
        "id": "9cLSNPrn_aiP"
      },
      "outputs": [
        {
          "data": {
            "text/html": [
              "<span style=\"None\">Running query in &#x27;sqlite:///aula2.sqlite3&#x27;</span>"
            ],
            "text/plain": [
              "Running query in 'sqlite:///aula2.sqlite3'"
            ]
          },
          "metadata": {},
          "output_type": "display_data"
        },
        {
          "data": {
            "text/html": [
              "<table>\n",
              "    <thead>\n",
              "        <tr>\n",
              "        </tr>\n",
              "    </thead>\n",
              "    <tbody>\n",
              "    </tbody>\n",
              "</table>"
            ],
            "text/plain": [
              "++\n",
              "||\n",
              "++\n",
              "++"
            ]
          },
          "execution_count": 28,
          "metadata": {},
          "output_type": "execute_result"
        }
      ],
      "source": [
        "%%sql\n",
        "\n",
        "CREATE TABLE produtos (\n",
        "    id INTEGER PRIMARY KEY AUTOINCREMENT,\n",
        "    nome TEXT,\n",
        "    preco NUMERIC\n",
        ")"
      ]
    },
    {
      "cell_type": "markdown",
      "metadata": {
        "id": "AR0fRyQ5_m3L"
      },
      "source": [
        "3. Crie uma tabela chamada \"pedidos\" com as colunas \"id\" (integer), \"cliente_id\" (integer) e \"total\" (numeric)."
      ]
    },
    {
      "cell_type": "code",
      "execution_count": 29,
      "metadata": {
        "id": "FTwt4oNy_fgv"
      },
      "outputs": [
        {
          "data": {
            "text/html": [
              "<span style=\"None\">Running query in &#x27;sqlite:///aula2.sqlite3&#x27;</span>"
            ],
            "text/plain": [
              "Running query in 'sqlite:///aula2.sqlite3'"
            ]
          },
          "metadata": {},
          "output_type": "display_data"
        },
        {
          "data": {
            "text/html": [
              "<table>\n",
              "    <thead>\n",
              "        <tr>\n",
              "        </tr>\n",
              "    </thead>\n",
              "    <tbody>\n",
              "    </tbody>\n",
              "</table>"
            ],
            "text/plain": [
              "++\n",
              "||\n",
              "++\n",
              "++"
            ]
          },
          "execution_count": 29,
          "metadata": {},
          "output_type": "execute_result"
        }
      ],
      "source": [
        "%%sql\n",
        "\n",
        "CREATE TABLE pedidos (\n",
        "    id INTEGER PRIMARY KEY AUTOINCREMENT,\n",
        "    cliente_id INTEGER,\n",
        "    total NUMERIC,\n",
        "    FOREIGN KEY (cliente_id) REFERENCES clientes(ID)\n",
        ")"
      ]
    },
    {
      "cell_type": "markdown",
      "metadata": {
        "id": "pYy7afHj_vHA"
      },
      "source": [
        "4. Adicione uma coluna chamada \"endereco\" (text) na tabela \"clientes\""
      ]
    },
    {
      "cell_type": "code",
      "execution_count": 30,
      "metadata": {
        "id": "hRfuOTQS_tMB"
      },
      "outputs": [
        {
          "data": {
            "text/html": [
              "<span style=\"None\">Running query in &#x27;sqlite:///aula2.sqlite3&#x27;</span>"
            ],
            "text/plain": [
              "Running query in 'sqlite:///aula2.sqlite3'"
            ]
          },
          "metadata": {},
          "output_type": "display_data"
        },
        {
          "data": {
            "text/html": [
              "<table>\n",
              "    <thead>\n",
              "        <tr>\n",
              "        </tr>\n",
              "    </thead>\n",
              "    <tbody>\n",
              "    </tbody>\n",
              "</table>"
            ],
            "text/plain": [
              "++\n",
              "||\n",
              "++\n",
              "++"
            ]
          },
          "execution_count": 30,
          "metadata": {},
          "output_type": "execute_result"
        }
      ],
      "source": [
        "%%sql\n",
        "\n",
        "ALTER TABLE clientes\n",
        "ADD COLUMN endereco TEXT null;"
      ]
    },
    {
      "cell_type": "markdown",
      "metadata": {
        "id": "Px5lj1ru_x0X"
      },
      "source": [
        "5. Crie uma tabela chamada \"fornecedores\" com as colunas \"id\" (integer), \"nome\" (text) e \"telefone\" (text)."
      ]
    },
    {
      "cell_type": "code",
      "execution_count": 31,
      "metadata": {
        "id": "PlGooXxi_wqf"
      },
      "outputs": [
        {
          "data": {
            "text/html": [
              "<span style=\"None\">Running query in &#x27;sqlite:///aula2.sqlite3&#x27;</span>"
            ],
            "text/plain": [
              "Running query in 'sqlite:///aula2.sqlite3'"
            ]
          },
          "metadata": {},
          "output_type": "display_data"
        },
        {
          "data": {
            "text/html": [
              "<table>\n",
              "    <thead>\n",
              "        <tr>\n",
              "        </tr>\n",
              "    </thead>\n",
              "    <tbody>\n",
              "    </tbody>\n",
              "</table>"
            ],
            "text/plain": [
              "++\n",
              "||\n",
              "++\n",
              "++"
            ]
          },
          "execution_count": 31,
          "metadata": {},
          "output_type": "execute_result"
        }
      ],
      "source": [
        "%%sql\n",
        "\n",
        "CREATE TABLE fornecedores (\n",
        "    id INTEGER PRIMARY KEY AUTOINCREMENT,\n",
        "    nome TEXT,\n",
        "    telefone TEXT\n",
        ")"
      ]
    },
    {
      "cell_type": "markdown",
      "metadata": {
        "id": "s0npA6pn_1vC"
      },
      "source": [
        "6. Exclua a tabela \"produtos\"."
      ]
    },
    {
      "cell_type": "code",
      "execution_count": 32,
      "metadata": {
        "id": "s0SPqena_0d7"
      },
      "outputs": [
        {
          "data": {
            "text/html": [
              "<span style=\"None\">Running query in &#x27;sqlite:///aula2.sqlite3&#x27;</span>"
            ],
            "text/plain": [
              "Running query in 'sqlite:///aula2.sqlite3'"
            ]
          },
          "metadata": {},
          "output_type": "display_data"
        },
        {
          "data": {
            "text/html": [
              "<table>\n",
              "    <thead>\n",
              "        <tr>\n",
              "        </tr>\n",
              "    </thead>\n",
              "    <tbody>\n",
              "    </tbody>\n",
              "</table>"
            ],
            "text/plain": [
              "++\n",
              "||\n",
              "++\n",
              "++"
            ]
          },
          "execution_count": 32,
          "metadata": {},
          "output_type": "execute_result"
        }
      ],
      "source": [
        "%%sql\n",
        "\n",
        "DROP TABLE produtos"
      ]
    },
    {
      "cell_type": "markdown",
      "metadata": {
        "id": "OS9awYhx_6LX"
      },
      "source": [
        "7. Insira um novo cliente com nome \"João\" e email \"joao@example.com\"."
      ]
    },
    {
      "cell_type": "code",
      "execution_count": 33,
      "metadata": {
        "id": "8CI8Al2-AC8h"
      },
      "outputs": [
        {
          "data": {
            "text/html": [
              "<span style=\"None\">Running query in &#x27;sqlite:///aula2.sqlite3&#x27;</span>"
            ],
            "text/plain": [
              "Running query in 'sqlite:///aula2.sqlite3'"
            ]
          },
          "metadata": {},
          "output_type": "display_data"
        },
        {
          "data": {
            "text/html": [
              "<span style=\"color: green\">1 rows affected.</span>"
            ],
            "text/plain": [
              "1 rows affected."
            ]
          },
          "metadata": {},
          "output_type": "display_data"
        },
        {
          "data": {
            "text/html": [
              "<table>\n",
              "    <thead>\n",
              "        <tr>\n",
              "        </tr>\n",
              "    </thead>\n",
              "    <tbody>\n",
              "    </tbody>\n",
              "</table>"
            ],
            "text/plain": [
              "++\n",
              "||\n",
              "++\n",
              "++"
            ]
          },
          "execution_count": 33,
          "metadata": {},
          "output_type": "execute_result"
        }
      ],
      "source": [
        "%%sql\n",
        "\n",
        "INSERT INTO clientes (id, nome, email, endereco) values (0, 'João', 'joao@example.com', 'Rua de teste');"
      ]
    },
    {
      "cell_type": "markdown",
      "metadata": {
        "id": "tOldfTC1AOA4"
      },
      "source": [
        "\n",
        "8. Insira um novo fornecedor com nome \"ABC Distribuidora\" e telefone \"123-456789\"."
      ]
    },
    {
      "cell_type": "code",
      "execution_count": 34,
      "metadata": {
        "id": "X2-LuI9M_9xE"
      },
      "outputs": [
        {
          "data": {
            "text/html": [
              "<span style=\"None\">Running query in &#x27;sqlite:///aula2.sqlite3&#x27;</span>"
            ],
            "text/plain": [
              "Running query in 'sqlite:///aula2.sqlite3'"
            ]
          },
          "metadata": {},
          "output_type": "display_data"
        },
        {
          "data": {
            "text/html": [
              "<span style=\"color: green\">1 rows affected.</span>"
            ],
            "text/plain": [
              "1 rows affected."
            ]
          },
          "metadata": {},
          "output_type": "display_data"
        },
        {
          "data": {
            "text/html": [
              "<table>\n",
              "    <thead>\n",
              "        <tr>\n",
              "        </tr>\n",
              "    </thead>\n",
              "    <tbody>\n",
              "    </tbody>\n",
              "</table>"
            ],
            "text/plain": [
              "++\n",
              "||\n",
              "++\n",
              "++"
            ]
          },
          "execution_count": 34,
          "metadata": {},
          "output_type": "execute_result"
        }
      ],
      "source": [
        "%%sql\n",
        "\n",
        "INSERT INTO fornecedores (id, nome, telefone) values (0, 'ABC Distribuidora', '123-456789');"
      ]
    },
    {
      "cell_type": "markdown",
      "metadata": {
        "id": "9zUNLg9sARy6"
      },
      "source": [
        "9. Exclua todos os clientes que possuem email \"joao@example.com\"."
      ]
    },
    {
      "cell_type": "code",
      "execution_count": 35,
      "metadata": {
        "id": "al_MDkaBARHf"
      },
      "outputs": [
        {
          "data": {
            "text/html": [
              "<span style=\"None\">Running query in &#x27;sqlite:///aula2.sqlite3&#x27;</span>"
            ],
            "text/plain": [
              "Running query in 'sqlite:///aula2.sqlite3'"
            ]
          },
          "metadata": {},
          "output_type": "display_data"
        },
        {
          "data": {
            "text/html": [
              "<span style=\"color: green\">1 rows affected.</span>"
            ],
            "text/plain": [
              "1 rows affected."
            ]
          },
          "metadata": {},
          "output_type": "display_data"
        },
        {
          "data": {
            "text/html": [
              "<table>\n",
              "    <thead>\n",
              "        <tr>\n",
              "        </tr>\n",
              "    </thead>\n",
              "    <tbody>\n",
              "    </tbody>\n",
              "</table>"
            ],
            "text/plain": [
              "++\n",
              "||\n",
              "++\n",
              "++"
            ]
          },
          "execution_count": 35,
          "metadata": {},
          "output_type": "execute_result"
        }
      ],
      "source": [
        "%%sql\n",
        "\n",
        "DELETE FROM clientes\n",
        "WHERE email == 'joao@example.com'"
      ]
    },
    {
      "cell_type": "markdown",
      "metadata": {
        "id": "EvivJAkJAW3R"
      },
      "source": [
        "10. Insira um novo pedido com cliente_id 1 e total 100.00."
      ]
    },
    {
      "cell_type": "code",
      "execution_count": 36,
      "metadata": {
        "id": "-vahONrAAWBn"
      },
      "outputs": [
        {
          "data": {
            "text/html": [
              "<span style=\"None\">Running query in &#x27;sqlite:///aula2.sqlite3&#x27;</span>"
            ],
            "text/plain": [
              "Running query in 'sqlite:///aula2.sqlite3'"
            ]
          },
          "metadata": {},
          "output_type": "display_data"
        },
        {
          "data": {
            "text/html": [
              "<span style=\"color: green\">1 rows affected.</span>"
            ],
            "text/plain": [
              "1 rows affected."
            ]
          },
          "metadata": {},
          "output_type": "display_data"
        },
        {
          "data": {
            "text/html": [
              "<table>\n",
              "    <thead>\n",
              "        <tr>\n",
              "        </tr>\n",
              "    </thead>\n",
              "    <tbody>\n",
              "    </tbody>\n",
              "</table>"
            ],
            "text/plain": [
              "++\n",
              "||\n",
              "++\n",
              "++"
            ]
          },
          "execution_count": 36,
          "metadata": {},
          "output_type": "execute_result"
        }
      ],
      "source": [
        "%%sql\n",
        "\n",
        "INSERT INTO pedidos (id, cliente_id, total) values (0, 1, 100.00);"
      ]
    },
    {
      "cell_type": "markdown",
      "metadata": {
        "id": "etbM6YibAekW"
      },
      "source": [
        "11.  Exclua todos os fornecedores."
      ]
    },
    {
      "cell_type": "code",
      "execution_count": 37,
      "metadata": {
        "id": "p24domb9Ad6d"
      },
      "outputs": [
        {
          "data": {
            "text/html": [
              "<span style=\"None\">Running query in &#x27;sqlite:///aula2.sqlite3&#x27;</span>"
            ],
            "text/plain": [
              "Running query in 'sqlite:///aula2.sqlite3'"
            ]
          },
          "metadata": {},
          "output_type": "display_data"
        },
        {
          "data": {
            "text/html": [
              "<span style=\"color: green\">1 rows affected.</span>"
            ],
            "text/plain": [
              "1 rows affected."
            ]
          },
          "metadata": {},
          "output_type": "display_data"
        },
        {
          "data": {
            "text/html": [
              "<table>\n",
              "    <thead>\n",
              "        <tr>\n",
              "        </tr>\n",
              "    </thead>\n",
              "    <tbody>\n",
              "    </tbody>\n",
              "</table>"
            ],
            "text/plain": [
              "++\n",
              "||\n",
              "++\n",
              "++"
            ]
          },
          "execution_count": 37,
          "metadata": {},
          "output_type": "execute_result"
        }
      ],
      "source": [
        "%%sql\n",
        "\n",
        "DELETE FROM fornecedores"
      ]
    },
    {
      "cell_type": "markdown",
      "metadata": {
        "id": "NkJ0meodAi_5"
      },
      "source": []
    },
    {
      "cell_type": "code",
      "execution_count": null,
      "metadata": {
        "id": "Ic8qYLmaAifa"
      },
      "outputs": [],
      "source": []
    }
  ],
  "metadata": {
    "colab": {
      "provenance": []
    },
    "kernelspec": {
      "display_name": "Python 3",
      "name": "python3"
    },
    "language_info": {
      "codemirror_mode": {
        "name": "ipython",
        "version": 3
      },
      "file_extension": ".py",
      "mimetype": "text/x-python",
      "name": "python",
      "nbconvert_exporter": "python",
      "pygments_lexer": "ipython3",
      "version": "3.11.4"
    }
  },
  "nbformat": 4,
  "nbformat_minor": 0
}
