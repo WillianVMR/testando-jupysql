{
  "nbformat": 4,
  "nbformat_minor": 0,
  "metadata": {
    "colab": {
      "provenance": []
    },
    "kernelspec": {
      "name": "python3",
      "display_name": "Python 3"
    },
    "language_info": {
      "name": "python"
    }
  },
  "cells": [
    {
      "cell_type": "markdown",
      "source": [
        "# Setup"
      ],
      "metadata": {
        "id": "GKBpPOP0_P0c"
      }
    },
    {
      "cell_type": "code",
      "execution_count": null,
      "metadata": {
        "id": "s8MPmZxL_NnW"
      },
      "outputs": [],
      "source": [
        "!pip install jupysql"
      ]
    },
    {
      "cell_type": "code",
      "source": [
        "%load_ext sql"
      ],
      "metadata": {
        "id": "pZ35BFjB_Rxd"
      },
      "execution_count": null,
      "outputs": []
    },
    {
      "cell_type": "code",
      "source": [
        "%sql sqlite:///"
      ],
      "metadata": {
        "id": "LXYwQKFh_Sx9"
      },
      "execution_count": null,
      "outputs": []
    },
    {
      "cell_type": "markdown",
      "source": [
        "# Exercícios"
      ],
      "metadata": {
        "id": "S0GVXMG__U5S"
      }
    },
    {
      "cell_type": "markdown",
      "source": [
        "1. Crie uma tabela chamada \"clientes\" com as colunas \"id\" (integer), \"nome\" (text) e \"email\" (text)."
      ],
      "metadata": {
        "id": "pjQKJ5Y5_W1h"
      }
    },
    {
      "cell_type": "code",
      "source": [
        "%%sql\n"
      ],
      "metadata": {
        "id": "LMhmooz2_UXv"
      },
      "execution_count": null,
      "outputs": []
    },
    {
      "cell_type": "markdown",
      "source": [
        "2. Crie uma tabela chamada \"produtos\" com as colunas \"id\" (integer), \"nome\" (text), \"preco\" (numeric) e \"quantidade\" (integer)."
      ],
      "metadata": {
        "id": "b2Phsc8y_bb7"
      }
    },
    {
      "cell_type": "code",
      "source": [
        "%%sql\n"
      ],
      "metadata": {
        "id": "9cLSNPrn_aiP"
      },
      "execution_count": null,
      "outputs": []
    },
    {
      "cell_type": "markdown",
      "source": [
        "3. Crie uma tabela chamada \"pedidos\" com as colunas \"id\" (integer), \"cliente_id\" (integer) e \"total\" (numeric)."
      ],
      "metadata": {
        "id": "AR0fRyQ5_m3L"
      }
    },
    {
      "cell_type": "code",
      "source": [
        "%%sql\n",
        "\n"
      ],
      "metadata": {
        "id": "FTwt4oNy_fgv"
      },
      "execution_count": null,
      "outputs": []
    },
    {
      "cell_type": "markdown",
      "source": [
        "4. Adicione uma coluna chamada \"endereco\" (text) na tabela \"clientes\""
      ],
      "metadata": {
        "id": "pYy7afHj_vHA"
      }
    },
    {
      "cell_type": "code",
      "source": [
        "%%sql\n"
      ],
      "metadata": {
        "id": "hRfuOTQS_tMB"
      },
      "execution_count": null,
      "outputs": []
    },
    {
      "cell_type": "markdown",
      "source": [
        "5. Crie uma tabela chamada \"fornecedores\" com as colunas \"id\" (integer), \"nome\" (text) e \"telefone\" (text)."
      ],
      "metadata": {
        "id": "Px5lj1ru_x0X"
      }
    },
    {
      "cell_type": "code",
      "source": [
        "%%sql\n"
      ],
      "metadata": {
        "id": "PlGooXxi_wqf"
      },
      "execution_count": null,
      "outputs": []
    },
    {
      "cell_type": "markdown",
      "source": [
        "6. Exclua a tabela \"produtos\"."
      ],
      "metadata": {
        "id": "s0npA6pn_1vC"
      }
    },
    {
      "cell_type": "code",
      "source": [
        "%%sql\n"
      ],
      "metadata": {
        "id": "s0SPqena_0d7"
      },
      "execution_count": null,
      "outputs": []
    },
    {
      "cell_type": "markdown",
      "source": [
        "7. Insira um novo cliente com nome \"João\" e email \"joao@example.com\"."
      ],
      "metadata": {
        "id": "OS9awYhx_6LX"
      }
    },
    {
      "cell_type": "code",
      "source": [
        "%%sql\n",
        "\n"
      ],
      "metadata": {
        "id": "8CI8Al2-AC8h"
      },
      "execution_count": null,
      "outputs": []
    },
    {
      "cell_type": "markdown",
      "source": [
        "\n",
        "8. Insira um novo fornecedor com nome \"ABC Distribuidora\" e telefone \"123-456789\"."
      ],
      "metadata": {
        "id": "tOldfTC1AOA4"
      }
    },
    {
      "cell_type": "code",
      "source": [
        "%%sql\n"
      ],
      "metadata": {
        "id": "X2-LuI9M_9xE"
      },
      "execution_count": null,
      "outputs": []
    },
    {
      "cell_type": "markdown",
      "source": [
        "9. Exclua todos os clientes que possuem email \"joao@example.com\"."
      ],
      "metadata": {
        "id": "9zUNLg9sARy6"
      }
    },
    {
      "cell_type": "code",
      "source": [
        "%%sql\n"
      ],
      "metadata": {
        "id": "al_MDkaBARHf"
      },
      "execution_count": null,
      "outputs": []
    },
    {
      "cell_type": "markdown",
      "source": [
        "10. Insira um novo pedido com cliente_id 1 e total 100.00."
      ],
      "metadata": {
        "id": "EvivJAkJAW3R"
      }
    },
    {
      "cell_type": "code",
      "source": [
        "%%sql\n"
      ],
      "metadata": {
        "id": "-vahONrAAWBn"
      },
      "execution_count": null,
      "outputs": []
    },
    {
      "cell_type": "markdown",
      "source": [
        "11.  Exclua todos os fornecedores."
      ],
      "metadata": {
        "id": "etbM6YibAekW"
      }
    },
    {
      "cell_type": "code",
      "source": [
        "%%sql\n"
      ],
      "metadata": {
        "id": "p24domb9Ad6d"
      },
      "execution_count": null,
      "outputs": []
    },
    {
      "cell_type": "markdown",
      "source": [],
      "metadata": {
        "id": "NkJ0meodAi_5"
      }
    },
    {
      "cell_type": "code",
      "source": [],
      "metadata": {
        "id": "Ic8qYLmaAifa"
      },
      "execution_count": null,
      "outputs": []
    }
  ]
}