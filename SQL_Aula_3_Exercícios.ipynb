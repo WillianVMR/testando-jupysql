{
  "cells": [
    {
      "cell_type": "markdown",
      "metadata": {
        "id": "PODHDIZwBzk2"
      },
      "source": [
        "# Setup"
      ]
    },
    {
      "cell_type": "code",
      "execution_count": 2,
      "metadata": {
        "id": "aW3-ZlZ-B2Hq"
      },
      "outputs": [],
      "source": [
        "%load_ext sql"
      ]
    },
    {
      "cell_type": "code",
      "execution_count": 3,
      "metadata": {},
      "outputs": [],
      "source": [
        "import requests\n",
        "\n",
        "url = 'https://rtvad.blob.core.windows.net/misc-data/northwind.sqlite3'\n",
        "r = requests.get(url)\n",
        "\n",
        "with open('northwind.sqlite3', 'wb') as f:\n",
        "    f.write(r.content)"
      ]
    },
    {
      "cell_type": "code",
      "execution_count": 3,
      "metadata": {
        "id": "j_j-5-iNB35o"
      },
      "outputs": [
        {
          "data": {
            "text/html": [
              "<span style=\"None\">Connecting to &#x27;sqlite:///northwind.sqlite3&#x27;</span>"
            ],
            "text/plain": [
              "Connecting to 'sqlite:///northwind.sqlite3'"
            ]
          },
          "metadata": {},
          "output_type": "display_data"
        }
      ],
      "source": [
        "%sql sqlite:///northwind.sqlite3"
      ]
    },
    {
      "cell_type": "markdown",
      "metadata": {
        "id": "Oh4qU0NlB5Yg"
      },
      "source": [
        "# Exercícios"
      ]
    },
    {
      "cell_type": "markdown",
      "metadata": {
        "id": "adiQsHHYB6do"
      },
      "source": [
        "Exercício 1:\n",
        "\n",
        "Qual é o número total de clientes na tabela Customers?"
      ]
    },
    {
      "cell_type": "code",
      "execution_count": 5,
      "metadata": {
        "colab": {
          "base_uri": "https://localhost:8080/",
          "height": 79
        },
        "id": "OYQc1PQ7B5AR",
        "outputId": "6efaa688-da7b-4968-d4fb-f620c1b86d0d"
      },
      "outputs": [
        {
          "data": {
            "text/html": [
              "<span style=\"None\">Running query in &#x27;sqlite:///northwind.sqlite3&#x27;</span>"
            ],
            "text/plain": [
              "Running query in 'sqlite:///northwind.sqlite3'"
            ]
          },
          "metadata": {},
          "output_type": "display_data"
        },
        {
          "data": {
            "text/html": [
              "<table>\n",
              "    <thead>\n",
              "        <tr>\n",
              "            <th>TotalCustomers</th>\n",
              "        </tr>\n",
              "    </thead>\n",
              "    <tbody>\n",
              "        <tr>\n",
              "            <td>91</td>\n",
              "        </tr>\n",
              "    </tbody>\n",
              "</table>"
            ],
            "text/plain": [
              "+----------------+\n",
              "| TotalCustomers |\n",
              "+----------------+\n",
              "|       91       |\n",
              "+----------------+"
            ]
          },
          "execution_count": 5,
          "metadata": {},
          "output_type": "execute_result"
        }
      ],
      "source": [
        "%%sql\n",
        "\n",
        "SELECT COUNT(*) AS TotalCustomers\n",
        "FROM Customers"
      ]
    },
    {
      "cell_type": "markdown",
      "metadata": {
        "id": "o4nKqNsVCEUr"
      },
      "source": [
        "Exercício 2:\n",
        "\n",
        "Qual é a idade mínima dos funcionários na tabela Employees?"
      ]
    },
    {
      "cell_type": "code",
      "execution_count": 8,
      "metadata": {
        "colab": {
          "base_uri": "https://localhost:8080/",
          "height": 79
        },
        "id": "XnwBdU6JCDW_",
        "outputId": "15582c1e-cd27-45d5-ddff-07cbf76362ac"
      },
      "outputs": [
        {
          "data": {
            "text/html": [
              "<span style=\"None\">Running query in &#x27;sqlite:///northwind.sqlite3&#x27;</span>"
            ],
            "text/plain": [
              "Running query in 'sqlite:///northwind.sqlite3'"
            ]
          },
          "metadata": {},
          "output_type": "display_data"
        },
        {
          "data": {
            "text/html": [
              "<table>\n",
              "    <thead>\n",
              "        <tr>\n",
              "            <th>MinAge</th>\n",
              "        </tr>\n",
              "    </thead>\n",
              "    <tbody>\n",
              "        <tr>\n",
              "            <td>40</td>\n",
              "        </tr>\n",
              "    </tbody>\n",
              "</table>"
            ],
            "text/plain": [
              "+--------+\n",
              "| MinAge |\n",
              "+--------+\n",
              "|   40   |\n",
              "+--------+"
            ]
          },
          "execution_count": 8,
          "metadata": {},
          "output_type": "execute_result"
        }
      ],
      "source": [
        "%%sql\n",
        "\n",
        "SELECT MIN(strftime('%Y-%m-%d', 'now') - BirthDate) AS MinAge\n",
        "FROM Employees\n"
      ]
    },
    {
      "cell_type": "markdown",
      "metadata": {
        "id": "JWAIFzRKDfRp"
      },
      "source": [
        "Exercício 3:\n",
        "\n",
        "Qual é o valor máximo do frete na tabela Orders?"
      ]
    },
    {
      "cell_type": "code",
      "execution_count": 11,
      "metadata": {
        "colab": {
          "base_uri": "https://localhost:8080/",
          "height": 79
        },
        "id": "CHRxqwnVCI1l",
        "outputId": "f8ede825-a3b8-4811-9fdf-8517c42fef35"
      },
      "outputs": [
        {
          "data": {
            "text/html": [
              "<span style=\"None\">Running query in &#x27;sqlite:///northwind.sqlite3&#x27;</span>"
            ],
            "text/plain": [
              "Running query in 'sqlite:///northwind.sqlite3'"
            ]
          },
          "metadata": {},
          "output_type": "display_data"
        },
        {
          "data": {
            "text/html": [
              "<table>\n",
              "    <thead>\n",
              "        <tr>\n",
              "            <th>MaxFreight</th>\n",
              "        </tr>\n",
              "    </thead>\n",
              "    <tbody>\n",
              "        <tr>\n",
              "            <td>2000</td>\n",
              "        </tr>\n",
              "    </tbody>\n",
              "</table>"
            ],
            "text/plain": [
              "+------------+\n",
              "| MaxFreight |\n",
              "+------------+\n",
              "|    2000    |\n",
              "+------------+"
            ]
          },
          "execution_count": 11,
          "metadata": {},
          "output_type": "execute_result"
        }
      ],
      "source": [
        "%%sql\n",
        "\n",
        "SELECT MAX(Freight) AS MaxFreight\n",
        "FROM Orders"
      ]
    },
    {
      "cell_type": "markdown",
      "metadata": {
        "id": "uMBIouXxDjI8"
      },
      "source": [
        "Exercício 4:\n",
        "\n",
        "Qual é o preço médio dos produtos na tabela Products?"
      ]
    },
    {
      "cell_type": "code",
      "execution_count": 13,
      "metadata": {
        "colab": {
          "base_uri": "https://localhost:8080/",
          "height": 79
        },
        "id": "ISSY4CJUDib7",
        "outputId": "cc91c8e6-84e1-40e3-d581-31116a459e51"
      },
      "outputs": [
        {
          "data": {
            "text/html": [
              "<span style=\"None\">Running query in &#x27;sqlite:///northwind.sqlite3&#x27;</span>"
            ],
            "text/plain": [
              "Running query in 'sqlite:///northwind.sqlite3'"
            ]
          },
          "metadata": {},
          "output_type": "display_data"
        },
        {
          "data": {
            "text/html": [
              "<table>\n",
              "    <thead>\n",
              "        <tr>\n",
              "            <th>AvgPrice</th>\n",
              "        </tr>\n",
              "    </thead>\n",
              "    <tbody>\n",
              "        <tr>\n",
              "            <td>28.866363636363637</td>\n",
              "        </tr>\n",
              "    </tbody>\n",
              "</table>"
            ],
            "text/plain": [
              "+--------------------+\n",
              "|      AvgPrice      |\n",
              "+--------------------+\n",
              "| 28.866363636363637 |\n",
              "+--------------------+"
            ]
          },
          "execution_count": 13,
          "metadata": {},
          "output_type": "execute_result"
        }
      ],
      "source": [
        "%%sql\n",
        "\n",
        "SELECT AVG(UnitPrice) AS AvgPrice\n",
        "FROM Products"
      ]
    },
    {
      "cell_type": "markdown",
      "metadata": {
        "id": "XPqQFkZ_FFQp"
      },
      "source": [
        "Exercício 5:\n",
        "\n",
        "Quantos clientes existem em cada país?\n"
      ]
    },
    {
      "cell_type": "code",
      "execution_count": 14,
      "metadata": {
        "colab": {
          "base_uri": "https://localhost:8080/",
          "height": 306
        },
        "id": "_4Ei3GMlDly7",
        "outputId": "09772e1e-5156-4de7-e52f-fea7197f1b05"
      },
      "outputs": [
        {
          "data": {
            "text/html": [
              "<span style=\"None\">Running query in &#x27;sqlite:///northwind.sqlite3&#x27;</span>"
            ],
            "text/plain": [
              "Running query in 'sqlite:///northwind.sqlite3'"
            ]
          },
          "metadata": {},
          "output_type": "display_data"
        },
        {
          "data": {
            "text/html": [
              "<table>\n",
              "    <thead>\n",
              "        <tr>\n",
              "            <th>Country</th>\n",
              "            <th>COUNT(*)</th>\n",
              "        </tr>\n",
              "    </thead>\n",
              "    <tbody>\n",
              "        <tr>\n",
              "            <td>Argentina</td>\n",
              "            <td>3</td>\n",
              "        </tr>\n",
              "        <tr>\n",
              "            <td>Austria</td>\n",
              "            <td>2</td>\n",
              "        </tr>\n",
              "        <tr>\n",
              "            <td>Belgium</td>\n",
              "            <td>2</td>\n",
              "        </tr>\n",
              "        <tr>\n",
              "            <td>Brazil</td>\n",
              "            <td>9</td>\n",
              "        </tr>\n",
              "        <tr>\n",
              "            <td>Canada</td>\n",
              "            <td>3</td>\n",
              "        </tr>\n",
              "        <tr>\n",
              "            <td>Denmark</td>\n",
              "            <td>2</td>\n",
              "        </tr>\n",
              "        <tr>\n",
              "            <td>Finland</td>\n",
              "            <td>2</td>\n",
              "        </tr>\n",
              "        <tr>\n",
              "            <td>France</td>\n",
              "            <td>11</td>\n",
              "        </tr>\n",
              "        <tr>\n",
              "            <td>Germany</td>\n",
              "            <td>11</td>\n",
              "        </tr>\n",
              "        <tr>\n",
              "            <td>Ireland</td>\n",
              "            <td>1</td>\n",
              "        </tr>\n",
              "    </tbody>\n",
              "</table>\n",
              "<span style=\"font-style:italic;text-align:center;\">Truncated to <a href=\"https://jupysql.ploomber.io/en/latest/api/configuration.html#displaylimit\">displaylimit</a> of 10.</span>"
            ],
            "text/plain": [
              "+-----------+----------+\n",
              "|  Country  | COUNT(*) |\n",
              "+-----------+----------+\n",
              "| Argentina |    3     |\n",
              "|  Austria  |    2     |\n",
              "|  Belgium  |    2     |\n",
              "|   Brazil  |    9     |\n",
              "|   Canada  |    3     |\n",
              "|  Denmark  |    2     |\n",
              "|  Finland  |    2     |\n",
              "|   France  |    11    |\n",
              "|  Germany  |    11    |\n",
              "|  Ireland  |    1     |\n",
              "+-----------+----------+\n",
              "Truncated to displaylimit of 10."
            ]
          },
          "execution_count": 14,
          "metadata": {},
          "output_type": "execute_result"
        }
      ],
      "source": [
        "%%sql\n",
        "\n",
        "SELECT Country, COUNT(*)\n",
        "FROM Customers\n",
        "GROUP BY Country"
      ]
    },
    {
      "cell_type": "markdown",
      "metadata": {
        "id": "cdfh9-8LFQbz"
      },
      "source": [
        "Exercício 6:\n",
        "\n",
        "Quantos funcionários existem em cada cidade?"
      ]
    },
    {
      "cell_type": "code",
      "execution_count": 15,
      "metadata": {
        "colab": {
          "base_uri": "https://localhost:8080/",
          "height": 165
        },
        "id": "SR8MsRYpFHiE",
        "outputId": "7b72c56c-588e-45c7-f594-a9de78996d5b"
      },
      "outputs": [
        {
          "data": {
            "text/html": [
              "<span style=\"None\">Running query in &#x27;sqlite:///northwind.sqlite3&#x27;</span>"
            ],
            "text/plain": [
              "Running query in 'sqlite:///northwind.sqlite3'"
            ]
          },
          "metadata": {},
          "output_type": "display_data"
        },
        {
          "data": {
            "text/html": [
              "<table>\n",
              "    <thead>\n",
              "        <tr>\n",
              "            <th>City</th>\n",
              "            <th>COUNT(*)</th>\n",
              "        </tr>\n",
              "    </thead>\n",
              "    <tbody>\n",
              "        <tr>\n",
              "            <td>Kirkland</td>\n",
              "            <td>1</td>\n",
              "        </tr>\n",
              "        <tr>\n",
              "            <td>London</td>\n",
              "            <td>4</td>\n",
              "        </tr>\n",
              "        <tr>\n",
              "            <td>Redmond</td>\n",
              "            <td>1</td>\n",
              "        </tr>\n",
              "        <tr>\n",
              "            <td>Seattle</td>\n",
              "            <td>2</td>\n",
              "        </tr>\n",
              "        <tr>\n",
              "            <td>Tacoma</td>\n",
              "            <td>1</td>\n",
              "        </tr>\n",
              "    </tbody>\n",
              "</table>"
            ],
            "text/plain": [
              "+----------+----------+\n",
              "|   City   | COUNT(*) |\n",
              "+----------+----------+\n",
              "| Kirkland |    1     |\n",
              "|  London  |    4     |\n",
              "| Redmond  |    1     |\n",
              "| Seattle  |    2     |\n",
              "|  Tacoma  |    1     |\n",
              "+----------+----------+"
            ]
          },
          "execution_count": 15,
          "metadata": {},
          "output_type": "execute_result"
        }
      ],
      "source": [
        "%%sql\n",
        "\n",
        "SELECT City, COUNT(*)\n",
        "FROM Employees\n",
        "GROUP BY City"
      ]
    },
    {
      "cell_type": "markdown",
      "metadata": {
        "id": "h6o1axVdFWEq"
      },
      "source": [
        "Exercício 7:\n",
        "\n",
        "Qual é a média do preço dos produtos por categoria?"
      ]
    },
    {
      "cell_type": "code",
      "execution_count": 20,
      "metadata": {
        "colab": {
          "base_uri": "https://localhost:8080/",
          "height": 229
        },
        "id": "6gNa2WRaFSZw",
        "outputId": "417723d3-0fc0-4a2d-9ffa-5aaa3fe2e028"
      },
      "outputs": [
        {
          "data": {
            "text/html": [
              "<span style=\"None\">Running query in &#x27;sqlite:///northwind.sqlite3&#x27;</span>"
            ],
            "text/plain": [
              "Running query in 'sqlite:///northwind.sqlite3'"
            ]
          },
          "metadata": {},
          "output_type": "display_data"
        },
        {
          "data": {
            "text/html": [
              "<table>\n",
              "    <thead>\n",
              "        <tr>\n",
              "            <th>CategoryID</th>\n",
              "            <th>ROUND(AVG(UnitPrice), 2)</th>\n",
              "        </tr>\n",
              "    </thead>\n",
              "    <tbody>\n",
              "        <tr>\n",
              "            <td>1</td>\n",
              "            <td>37.98</td>\n",
              "        </tr>\n",
              "        <tr>\n",
              "            <td>2</td>\n",
              "            <td>23.06</td>\n",
              "        </tr>\n",
              "        <tr>\n",
              "            <td>3</td>\n",
              "            <td>25.16</td>\n",
              "        </tr>\n",
              "        <tr>\n",
              "            <td>4</td>\n",
              "            <td>28.73</td>\n",
              "        </tr>\n",
              "        <tr>\n",
              "            <td>5</td>\n",
              "            <td>20.25</td>\n",
              "        </tr>\n",
              "        <tr>\n",
              "            <td>6</td>\n",
              "            <td>54.01</td>\n",
              "        </tr>\n",
              "        <tr>\n",
              "            <td>7</td>\n",
              "            <td>32.37</td>\n",
              "        </tr>\n",
              "        <tr>\n",
              "            <td>8</td>\n",
              "            <td>20.68</td>\n",
              "        </tr>\n",
              "    </tbody>\n",
              "</table>"
            ],
            "text/plain": [
              "+------------+--------------------------+\n",
              "| CategoryID | ROUND(AVG(UnitPrice), 2) |\n",
              "+------------+--------------------------+\n",
              "|     1      |          37.98           |\n",
              "|     2      |          23.06           |\n",
              "|     3      |          25.16           |\n",
              "|     4      |          28.73           |\n",
              "|     5      |          20.25           |\n",
              "|     6      |          54.01           |\n",
              "|     7      |          32.37           |\n",
              "|     8      |          20.68           |\n",
              "+------------+--------------------------+"
            ]
          },
          "execution_count": 20,
          "metadata": {},
          "output_type": "execute_result"
        }
      ],
      "source": [
        "%%sql\n",
        "\n",
        "SELECT CategoryID, ROUND(AVG(UnitPrice), 2)\n",
        "FROM Products\n",
        "GROUP BY CategoryID"
      ]
    },
    {
      "cell_type": "markdown",
      "metadata": {
        "id": "WNNvKJsNFb4I"
      },
      "source": [
        "Exercício 8:\n",
        "\n",
        "\n",
        "Quantos pedidos cada cliente fez?"
      ]
    },
    {
      "cell_type": "code",
      "execution_count": 5,
      "metadata": {
        "colab": {
          "base_uri": "https://localhost:8080/",
          "height": 306
        },
        "id": "DTpPEw3_FbSA",
        "outputId": "df9d5985-00da-4c4c-abaf-5e3f2069c9d8"
      },
      "outputs": [
        {
          "data": {
            "text/html": [
              "<span style=\"None\">Running query in &#x27;sqlite:///northwind.sqlite3&#x27;</span>"
            ],
            "text/plain": [
              "Running query in 'sqlite:///northwind.sqlite3'"
            ]
          },
          "metadata": {},
          "output_type": "display_data"
        },
        {
          "data": {
            "text/html": [
              "<table>\n",
              "    <thead>\n",
              "        <tr>\n",
              "            <th>CustomerID</th>\n",
              "            <th>COUNT(OrderID)</th>\n",
              "        </tr>\n",
              "    </thead>\n",
              "    <tbody>\n",
              "        <tr>\n",
              "            <td>ALFKI</td>\n",
              "            <td>6</td>\n",
              "        </tr>\n",
              "        <tr>\n",
              "            <td>ANATR</td>\n",
              "            <td>4</td>\n",
              "        </tr>\n",
              "        <tr>\n",
              "            <td>ANTON</td>\n",
              "            <td>7</td>\n",
              "        </tr>\n",
              "        <tr>\n",
              "            <td>AROUT</td>\n",
              "            <td>13</td>\n",
              "        </tr>\n",
              "        <tr>\n",
              "            <td>BERGS</td>\n",
              "            <td>18</td>\n",
              "        </tr>\n",
              "        <tr>\n",
              "            <td>BLAUS</td>\n",
              "            <td>7</td>\n",
              "        </tr>\n",
              "        <tr>\n",
              "            <td>BLONP</td>\n",
              "            <td>11</td>\n",
              "        </tr>\n",
              "        <tr>\n",
              "            <td>BOLID</td>\n",
              "            <td>3</td>\n",
              "        </tr>\n",
              "        <tr>\n",
              "            <td>BONAP</td>\n",
              "            <td>17</td>\n",
              "        </tr>\n",
              "        <tr>\n",
              "            <td>BOTTM</td>\n",
              "            <td>14</td>\n",
              "        </tr>\n",
              "    </tbody>\n",
              "</table>\n",
              "<span style=\"font-style:italic;text-align:center;\">Truncated to <a href=\"https://jupysql.ploomber.io/en/latest/api/configuration.html#displaylimit\">displaylimit</a> of 10.</span>"
            ],
            "text/plain": [
              "+------------+----------------+\n",
              "| CustomerID | COUNT(OrderID) |\n",
              "+------------+----------------+\n",
              "|   ALFKI    |       6        |\n",
              "|   ANATR    |       4        |\n",
              "|   ANTON    |       7        |\n",
              "|   AROUT    |       13       |\n",
              "|   BERGS    |       18       |\n",
              "|   BLAUS    |       7        |\n",
              "|   BLONP    |       11       |\n",
              "|   BOLID    |       3        |\n",
              "|   BONAP    |       17       |\n",
              "|   BOTTM    |       14       |\n",
              "+------------+----------------+\n",
              "Truncated to displaylimit of 10."
            ]
          },
          "execution_count": 5,
          "metadata": {},
          "output_type": "execute_result"
        }
      ],
      "source": [
        "%%sql\n",
        "\n",
        "SELECT CustomerID, COUNT(OrderID)\n",
        "FROM Orders\n",
        "GROUP BY (CustomerID)"
      ]
    },
    {
      "cell_type": "markdown",
      "metadata": {
        "id": "gUKIouYmFrhQ"
      },
      "source": [
        "Exercício 9:\n",
        "\n",
        "Quantos produtos de cada categoria estão descontinuados?"
      ]
    },
    {
      "cell_type": "code",
      "execution_count": 8,
      "metadata": {
        "colab": {
          "base_uri": "https://localhost:8080/",
          "height": 165
        },
        "id": "hXoE5bE0FqOg",
        "outputId": "a83dc368-9506-4dc9-8d27-ceaad7bd45cb"
      },
      "outputs": [
        {
          "data": {
            "text/html": [
              "<span style=\"None\">Running query in &#x27;sqlite:///northwind.sqlite3&#x27;</span>"
            ],
            "text/plain": [
              "Running query in 'sqlite:///northwind.sqlite3'"
            ]
          },
          "metadata": {},
          "output_type": "display_data"
        },
        {
          "data": {
            "text/html": [
              "<table>\n",
              "    <thead>\n",
              "        <tr>\n",
              "            <th>CategoryID</th>\n",
              "            <th>COUNT(*)</th>\n",
              "        </tr>\n",
              "    </thead>\n",
              "    <tbody>\n",
              "        <tr>\n",
              "            <td>2</td>\n",
              "            <td>1</td>\n",
              "        </tr>\n",
              "        <tr>\n",
              "            <td>6</td>\n",
              "            <td>1</td>\n",
              "        </tr>\n",
              "        <tr>\n",
              "            <td>6</td>\n",
              "            <td>1</td>\n",
              "        </tr>\n",
              "        <tr>\n",
              "            <td>1</td>\n",
              "            <td>1</td>\n",
              "        </tr>\n",
              "        <tr>\n",
              "            <td>7</td>\n",
              "            <td>1</td>\n",
              "        </tr>\n",
              "        <tr>\n",
              "            <td>6</td>\n",
              "            <td>1</td>\n",
              "        </tr>\n",
              "        <tr>\n",
              "            <td>5</td>\n",
              "            <td>1</td>\n",
              "        </tr>\n",
              "        <tr>\n",
              "            <td>6</td>\n",
              "            <td>1</td>\n",
              "        </tr>\n",
              "    </tbody>\n",
              "</table>"
            ],
            "text/plain": [
              "+------------+----------+\n",
              "| CategoryID | COUNT(*) |\n",
              "+------------+----------+\n",
              "|     2      |    1     |\n",
              "|     6      |    1     |\n",
              "|     6      |    1     |\n",
              "|     1      |    1     |\n",
              "|     7      |    1     |\n",
              "|     6      |    1     |\n",
              "|     5      |    1     |\n",
              "|     6      |    1     |\n",
              "+------------+----------+"
            ]
          },
          "execution_count": 8,
          "metadata": {},
          "output_type": "execute_result"
        }
      ],
      "source": [
        "%%sql\n",
        "\n",
        "SELECT CategoryID, COUNT(*)\n",
        "FROM Products\n",
        "GROUP BY ProductID\n",
        "HAVING Discontinued = 1"
      ]
    },
    {
      "cell_type": "code",
      "execution_count": null,
      "metadata": {},
      "outputs": [],
      "source": []
    }
  ],
  "metadata": {
    "colab": {
      "provenance": []
    },
    "kernelspec": {
      "display_name": "Python 3",
      "name": "python3"
    },
    "language_info": {
      "codemirror_mode": {
        "name": "ipython",
        "version": 3
      },
      "file_extension": ".py",
      "mimetype": "text/x-python",
      "name": "python",
      "nbconvert_exporter": "python",
      "pygments_lexer": "ipython3",
      "version": "3.11.4"
    }
  },
  "nbformat": 4,
  "nbformat_minor": 0
}
